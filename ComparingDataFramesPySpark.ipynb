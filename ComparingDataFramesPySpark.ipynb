{
 "cells": [
  {
   "metadata": {},
   "cell_type": "markdown",
   "source": "# Setting PySpark",
   "id": "1cb184c568af512f"
  },
  {
   "metadata": {
    "ExecuteTime": {
     "end_time": "2024-06-25T13:13:39.952750Z",
     "start_time": "2024-06-25T13:13:39.535411Z"
    }
   },
   "cell_type": "code",
   "source": [
    "import pyspark\n",
    "pyspark_version = pyspark.__version__\n",
    "from pyspark.sql import SparkSession\n",
    "\n",
    "\n",
    "class StartSpark:\n",
    "\n",
    "    ####################################################################################################################\n",
    "    def __init__(self, app_name: str = 'PySparkDf'):\n",
    "        super().__init__()\n",
    "        self._appName = app_name\n",
    "\n",
    "    ####################################################################################################################\n",
    "    def initialize(self):\n",
    "\n",
    "        # --------------------------------------------------------------------------------------------------------------\n",
    "        spark = (SparkSession\n",
    "                 .builder\n",
    "                 .master(\"local[*]\")\n",
    "                 .config('spark.driver.host', 'localhost')\n",
    "                 .appName(self._appName)\n",
    "                 .getOrCreate()\n",
    "                 )\n",
    "        pyspark_version_info_1 = str(pyspark_version)\n",
    "        pyspark_version_info = f'Version = {pyspark_version_info_1} '.ljust(19, ' ')\n",
    "        spark.sparkContext.setLogLevel(\"ERROR\")\n",
    "        # --------------------------------------------------------------------------------------------------------------\n",
    "        print(f\"\"\"{' ' * 9} _____      _____                  _      _   _____               _       \"\"\")\n",
    "        print(f\"\"\"{' ' * 9}| ___ \\    /  ___|                | |    | | | ___ \\             | |      \"\"\")\n",
    "        print(f\"\"\"{' ' * 9}| |_/ /   _\\ `--. _ __   __ _ _ __| | __ | | | |_/ /___  __ _  __| |_   _ \"\"\")\n",
    "        print(f\"\"\"{' ' * 9}|  __/ | | |`--. \\ '_ \\ / _` | '__| |/ / | | |    // _ \\/ _` |/ _` | | | |\"\"\")\n",
    "        print(f\"\"\"{' ' * 9}| |  | |_| /\\__/ / |_) | (_| | |  |   <  | | | |\\ \\  __/ (_| | (_| | |_| |\"\"\")\n",
    "        print(f\"\"\"{' ' * 9}\\_|   \\__, \\____/| .__/ \\__,_|_|  |_|\\_\\ | | \\_| \\_\\___|\\__,_|\\__,_|\\__, |\"\"\")\n",
    "        print(f\"\"\"{' ' * 9}       __/ |     | |                     | |                         __/ |\"\"\")\n",
    "        print(f\"\"\"{' ' * 9}      |___/      |_| {pyspark_version_info} |_|                        |___/ \"\"\")\n",
    "        # --------------------------------------------------------------------------------------------------------------\n",
    "        \n",
    "        return spark"
   ],
   "id": "initial_id",
   "outputs": [],
   "execution_count": 1
  },
  {
   "metadata": {},
   "cell_type": "markdown",
   "source": [
    "---\n",
    "\n",
    "# Starting PySpark"
   ],
   "id": "3f4d71b2771fec6d"
  },
  {
   "metadata": {
    "ExecuteTime": {
     "end_time": "2024-06-25T13:13:50.062761Z",
     "start_time": "2024-06-25T13:13:49.618274Z"
    }
   },
   "cell_type": "code",
   "source": "spark = StartSpark().initialize()",
   "id": "5f31154afb5757b",
   "outputs": [
    {
     "name": "stdout",
     "output_type": "stream",
     "text": [
      "          _____      _____                  _      _   _____               _       \n",
      "         | ___ \\    /  ___|                | |    | | | ___ \\             | |      \n",
      "         | |_/ /   _\\ `--. _ __   __ _ _ __| | __ | | | |_/ /___  __ _  __| |_   _ \n",
      "         |  __/ | | |`--. \\ '_ \\ / _` | '__| |/ / | | |    // _ \\/ _` |/ _` | | | |\n",
      "         | |  | |_| /\\__/ / |_) | (_| | |  |   <  | | | |\\ \\  __/ (_| | (_| | |_| |\n",
      "         \\_|   \\__, \\____/| .__/ \\__,_|_|  |_|\\_\\ | | \\_| \\_\\___|\\__,_|\\__,_|\\__, |\n",
      "                __/ |     | |                     | |                         __/ |\n",
      "               |___/      |_| Version = 3.5.0     |_|                        |___/ \n"
     ]
    }
   ],
   "execution_count": 3
  },
  {
   "metadata": {},
   "cell_type": "markdown",
   "source": [
    "---\n",
    "# Importing functions needed"
   ],
   "id": "93ec04be5ca617ed"
  },
  {
   "metadata": {
    "ExecuteTime": {
     "end_time": "2024-06-25T13:13:50.976791Z",
     "start_time": "2024-06-25T13:13:50.974633Z"
    }
   },
   "cell_type": "code",
   "source": [
    "from pyspark.sql.types import StructType, StructField, StringType, BooleanType, TimestampType, DateType, IntegerType, MapType, LongType\n",
    "from pyspark.sql.functions import when, col, lit, asc, desc, monotonically_increasing_id\n",
    "from pyspark.sql.dataframe import DataFrame as SparkDF\n",
    "from datetime import datetime"
   ],
   "id": "18e7cc53f669936",
   "outputs": [],
   "execution_count": 4
  },
  {
   "metadata": {},
   "cell_type": "markdown",
   "source": [
    "---\n",
    "# Defining DFs"
   ],
   "id": "f71f7b2022461bc6"
  },
  {
   "metadata": {},
   "cell_type": "code",
   "source": [
    "schema = StructType([\n",
    "    StructField('col1', StringType(), True),\n",
    "    StructField('col2', StringType(), True),\n",
    "    StructField('col3', StringType(), True),\n",
    "    StructField('col4', StringType(), True),\n",
    "])\n",
    "\n",
    "data = [tuple([f'a_{x}_{str(y).zfill(4)}' for x in range(1,5)]) for y in range(1,1000000)]\n",
    "\n",
    "df_1 = spark.createDataFrame(data=data, schema=schema).cache()\n",
    "df_2 = df_1\n",
    "\n",
    "df_2 = df_2.withColumn('col2', when(col('col2').like('%_02%'), 'DIFF').otherwise(col('col2')))\n",
    "df_2 = df_2.withColumn('col3', when(col('col3').like('%_03%'), 'DIFF').otherwise(col('col3')))"
   ],
   "id": "32befa0eb6cff56",
   "outputs": [],
   "execution_count": null
  },
  {
   "metadata": {},
   "cell_type": "markdown",
   "source": [
    "---\n",
    "# Manual Testing (testing validation options)"
   ],
   "id": "66d24eca2a9ef95e"
  },
  {
   "metadata": {},
   "cell_type": "code",
   "source": [
    "def lower_df_columns(df: SparkDF, lower_var: bool = True):\n",
    "    if lower_var:\n",
    "        df = df.toDF(*[_col.lower() for _col in df.columns])\n",
    "        return df\n",
    "    else:\n",
    "        df = df.toDF(*[_col.upper() for _col in df.columns])\n",
    "        return df"
   ],
   "id": "3e5245aa4b638b8f",
   "outputs": [],
   "execution_count": null
  },
  {
   "metadata": {},
   "cell_type": "code",
   "source": [
    "# Normalizing columns names for easier analysis\n",
    "df_1 = lower_df_columns(df_1)\n",
    "df_2 = lower_df_columns(df_2, lower_var=True)"
   ],
   "id": "6ef47ffc64a728e9",
   "outputs": [],
   "execution_count": null
  },
  {
   "metadata": {},
   "cell_type": "code",
   "source": [
    "# checking for col number difference\n",
    "assert len(df_1.columns) == len(df_2.columns), 'Diff cols'\n",
    "assert list(set(df_1.columns) - set(df_2.columns)) == [], 'Columns with different names'"
   ],
   "id": "6b71a239c9cab52e",
   "outputs": [],
   "execution_count": null
  },
  {
   "metadata": {},
   "cell_type": "code",
   "source": [
    "# checking for row number difference\n",
    "assert df_1.count() == df_2.count(), 'Diff rows'"
   ],
   "id": "121647315a22faa9",
   "outputs": [],
   "execution_count": null
  },
  {
   "metadata": {},
   "cell_type": "code",
   "source": [
    "# Checking for differences in data\n",
    "diff_dfs = df_1.subtract(df_2).count()\n",
    "# assert diff_dfs == 0, f'There\\'s difference in the data {diff_dfs}'"
   ],
   "id": "58482a8cef5a6207",
   "outputs": [],
   "execution_count": null
  },
  {
   "metadata": {},
   "cell_type": "code",
   "source": [
    "dict_final = {}\n",
    "keep_temp = 0\n",
    "for _col in df_1.columns:\n",
    "    if not keep_temp == diff_dfs:\n",
    "        temp = df_1.select(_col).subtract(df_2.select(_col)).count()\n",
    "    else:\n",
    "        temp = 0\n",
    "    keep_temp += temp\n",
    "    if temp > 0:\n",
    "        dict_final[_col] = temp"
   ],
   "id": "71401cd9bedf1eb0",
   "outputs": [],
   "execution_count": null
  },
  {
   "metadata": {},
   "cell_type": "code",
   "source": [
    "for _col in dict_final.keys():\n",
    "    print(f\"{_col} = {dict_final.get(_col)}\")"
   ],
   "id": "e9042413da6f5b87",
   "outputs": [],
   "execution_count": null
  },
  {
   "metadata": {},
   "cell_type": "markdown",
   "source": [
    "---\n",
    "\n",
    "# Class (expanding the validation)"
   ],
   "id": "d9d3cd4725f1fecc"
  },
  {
   "metadata": {
    "ExecuteTime": {
     "end_time": "2024-06-25T13:13:57.040847Z",
     "start_time": "2024-06-25T13:13:57.033644Z"
    }
   },
   "cell_type": "code",
   "source": [
    "class GetDfDifferences:\n",
    "    \"\"\"\n",
    "    Class for getting differences between two dataframes.\n",
    "    \n",
    "    df1: Spark Dataframe\n",
    "    the dataframe to be compared\n",
    "    \n",
    "    df2: Spark Dataframe\n",
    "    the new dataframe to be compared\n",
    "    \n",
    "    return: Spark Dataframe containing differences between two dataframes\n",
    "    \"\"\"\n",
    "    \n",
    "    # Defining the schema that will be used to report the analysis _____________________________________________________\n",
    "    SCHEMA = StructType([\n",
    "        StructField('DateRefProcess',    TimestampType(),                     True),\n",
    "        StructField('StartProcess',      TimestampType(),                     True),\n",
    "        StructField('EndProcess',        TimestampType(),                     True),\n",
    "        StructField('Status',            StringType(),                        True),\n",
    "        StructField('ColsDiff',          BooleanType(),                       True),\n",
    "        StructField('CountDiffBool',     BooleanType(),                       True),\n",
    "        StructField('CountDiffComplete', StringType(),                        True),\n",
    "        StructField('DataDiffBool',      BooleanType(),                       True),\n",
    "        StructField('DataDiffTotalRows', IntegerType(),                       True),\n",
    "        StructField('DataDiffCols',      MapType(StringType(), StringType()), True),\n",
    "    ])\n",
    "    \n",
    "    # ##################################################################################################################\n",
    "    def __init__(self, df1: SparkDF, df2: SparkDF):\n",
    "        self.df1 = self.lower_columns(df1)\n",
    "        self.df2 = self.lower_columns(df2)\n",
    "        \n",
    "        # Caching the Dataframes in order to improve performance _______________________________________________________\n",
    "        self.df1.cache()\n",
    "        self.df2.cache()\n",
    "        \n",
    "        self.data_diff = None\n",
    "        self.start = datetime.now()\n",
    "        \n",
    "    # ##################################################################################################################\n",
    "    def check_count(self) -> bool:\n",
    "        return self.df1.count() == self.df2.count()\n",
    "        \n",
    "    # ##################################################################################################################\n",
    "    def check_cols(self) -> bool:\n",
    "        return sorted(self.df1.columns) == sorted(self.df2.columns)\n",
    "    \n",
    "    # ##################################################################################################################\n",
    "    @staticmethod\n",
    "    def lower_columns(df: SparkDF) -> SparkDF:\n",
    "        df = df.toDF(*[column for column in df.columns])\n",
    "        return df.select(sorted(df.columns))\n",
    "    \n",
    "    # ##################################################################################################################\n",
    "    def get_data_diff(self) -> None:\n",
    "        columns = self.df1.columns\n",
    "        self.data_diff = self.df1.select(columns).subtract(self.df2.select(columns)).count()\n",
    "    \n",
    "    # ##################################################################################################################\n",
    "    def get_diff_cols(self) -> dict:\n",
    "        self.get_data_diff()\n",
    "        \n",
    "        if self.data_diff > 0:\n",
    "            return_dict = {}            \n",
    "            for column in sorted(self.df1.columns):\n",
    "                temp = self.df1.select(column).subtract(self.df2.select(column)).count()\n",
    "                return_dict[column] = temp\n",
    "            \n",
    "            return return_dict\n",
    "    \n",
    "    # ##################################################################################################################\n",
    "    def run(self) -> SparkDF:\n",
    "        \n",
    "        # Basic validation _____________________________________________________________________________________________\n",
    "        check_cols = self.check_cols()\n",
    "        check_count = self.check_count()\n",
    "        \n",
    "        # Checking for data validation _________________________________________________________________________________\n",
    "        col_dict = self.get_diff_cols() if (check_cols and check_count) else None\n",
    "        \n",
    "        # Preparing report DF that might be used in case of a log table for validation multiples tables after migration \n",
    "        data_return = [\n",
    "            (\n",
    "            self.start,\n",
    "            self.start,\n",
    "            datetime.now(),\n",
    "            'OK' if (check_cols and check_count and self.data_diff == 0) else 'NOT OK',\n",
    "            not check_cols,\n",
    "            not check_count,\n",
    "            f\"df1: {self.df1.count()} | df2: {self.df2.count()}\" if not check_count else \"No differences in count.\",\n",
    "            (self.data_diff > 0) if (check_cols and check_count) else False,\n",
    "            self.data_diff,\n",
    "            {_key: col_dict.get(_key) for _key in col_dict.keys() if col_dict.get(_key) > 0} if (check_cols and check_count and self.data_diff >0) else None,\n",
    "            )\n",
    "        ]\n",
    "        \n",
    "        # Un-persisting the Dataframes _________________________________________________________________________________\n",
    "        self.df1.unpersist()\n",
    "        self.df2.unpersist()\n",
    "        \n",
    "        # Validating if the Dataframes were indeed un-persisted ________________________________________________________\n",
    "        assert self.df1.is_cached is False, 'DF1 is cached'\n",
    "        assert self.df2.is_cached is False, 'DF2 is cached'\n",
    "        \n",
    "        # Deleting the variables created for the Dataframes since this is the last part of the class ___________________\n",
    "        del self.df1, self.df2\n",
    "        \n",
    "        # Well the end ...\n",
    "        return spark.createDataFrame(data=data_return, schema=self.SCHEMA).withColumn('DateRefProcess', col('DateRefProcess').cast(DateType()))"
   ],
   "id": "70f3371565d067ab",
   "outputs": [],
   "execution_count": 5
  },
  {
   "metadata": {},
   "cell_type": "markdown",
   "source": [
    "---\n",
    "# Expanding testing"
   ],
   "id": "68d8172bf4028763"
  },
  {
   "metadata": {
    "ExecuteTime": {
     "end_time": "2024-06-25T13:17:06.120332Z",
     "start_time": "2024-06-25T13:14:10.306352Z"
    }
   },
   "cell_type": "code",
   "source": [
    "import numpy as np\n",
    "\n",
    "# Defining a dict with the patterns for data creation and testing over the class\n",
    "generate_control = {\n",
    "    'num_dfs': 50,\n",
    "    'num_rows_in_df': 500000,\n",
    "    'dfs_col_removed': [0, 2, 32, 47],\n",
    "    'col_removed': [('col1',), ('col2',), ('col2',), ('col2',)],\n",
    "    'dfs_count': [0, 2, 3, 8, 40, 45],\n",
    "    'dfs_with_diffs': [0, 4, 5, 25, 30],\n",
    "    'dfs_diff_cols': [('col1', 'col2'), ('col3', 'col4', 'col1'), ('col1',), ('col3', 'col4'), ('col1', 'col2')],\n",
    "}\n",
    "\n",
    "# Schema for the Dataframes\n",
    "schema = StructType([\n",
    "    StructField('col1', StringType(), True),\n",
    "    StructField('col2', StringType(), True),\n",
    "    StructField('col3', StringType(), True),\n",
    "    StructField('col4', StringType(), True),\n",
    "])\n",
    "\n",
    "for df_generated in range(generate_control.get('num_dfs')):\n",
    "    start = datetime.now()\n",
    "    \n",
    "    new_data = [tuple([f'a_{x*(df_generated + 1)}_{str(y*(df_generated + 1)).zfill(4)}' for x in range(1,5)]) for y in range(1, int(generate_control.get('num_rows_in_df') * round(1 + np.random.choice([x for x in range(1, 20)], 1)[0]/100, 3)))]\n",
    "    \n",
    "    df1_gen_new = spark.createDataFrame(data=new_data, schema=schema)\n",
    "    df1_gen_new.cache()\n",
    "    df2_gen_new = df1_gen_new\n",
    "    df2_gen_new.cache()\n",
    "    \n",
    "    # Creating count diff\n",
    "    if df_generated in generate_control.get('dfs_count'):\n",
    "        df2_gen_new = df2_gen_new.unionAll(df2_gen_new.limit(np.random.choice([x for x in range(1, 200)], 1)[0]))\n",
    "    \n",
    "    # Creating data diff\n",
    "    if df_generated in generate_control.get('dfs_with_diffs'):\n",
    "        for column in generate_control.get('dfs_diff_cols')[generate_control.get('dfs_with_diffs').index(df_generated)]:\n",
    "            df2_gen_new = df2_gen_new.withColumn(column, when(col(column).like(f'%_00{int(\"\".join([x for x in column if x.isdigit()])) * np.random.choice([1,11], 1)[0]}0%'), 'DIFF').otherwise(col(column)))\n",
    "            \n",
    "    # Creating columns diff\n",
    "    if df_generated in generate_control.get('dfs_col_removed'):\n",
    "        for column in generate_control.get('col_removed')[generate_control.get('dfs_col_removed').index(df_generated)]:\n",
    "            df2_gen_new = df2_gen_new.drop(column)\n",
    "    \n",
    "    end = datetime.now()\n",
    "    \n",
    "    # Creating the report table\n",
    "    if df_generated == 0:\n",
    "        df_return = GetDfDifferences(df1_gen_new, df2_gen_new).run().withColumn('iteration', lit(df_generated)).withColumn('start_creation', lit(start)).withColumn('end_creation', lit(end))\n",
    "        \n",
    "    else:\n",
    "        df_return = df_return.unionAll(GetDfDifferences(df1_gen_new, df2_gen_new).run().withColumn('iteration', lit(df_generated)).withColumn('start_creation', lit(start)).withColumn('end_creation', lit(end)))\n",
    "    \n",
    "    df1_gen_new.unpersist()\n",
    "    df2_gen_new.unpersist()\n",
    "    \n",
    "    del df1_gen_new, df2_gen_new\n",
    "    "
   ],
   "id": "a6c0668476db7378",
   "outputs": [
    {
     "name": "stderr",
     "output_type": "stream",
     "text": [
      "                                                                                \r"
     ]
    }
   ],
   "execution_count": 6
  },
  {
   "metadata": {
    "ExecuteTime": {
     "end_time": "2024-06-25T13:17:06.233055Z",
     "start_time": "2024-06-25T13:17:06.121731Z"
    }
   },
   "cell_type": "code",
   "source": [
    "df_return = df_return.withColumn('process_time_seconds', (col('EndProcess').cast(LongType()) - col('StartProcess').cast(LongType())))\n",
    "df_return = df_return.withColumn('creation_time_seconds', (col('end_creation').cast(LongType()) - col('start_creation').cast(LongType())))\n",
    "df_return.cache()"
   ],
   "id": "cffb7f40cff65c2b",
   "outputs": [
    {
     "data": {
      "text/plain": [
       "DataFrame[DateRefProcess: date, StartProcess: timestamp, EndProcess: timestamp, Status: string, ColsDiff: boolean, CountDiffBool: boolean, CountDiffComplete: string, DataDiffBool: boolean, DataDiffTotalRows: int, DataDiffCols: map<string,string>, iteration: int, start_creation: timestamp, end_creation: timestamp, process_time_seconds: bigint, creation_time_seconds: bigint]"
      ]
     },
     "execution_count": 7,
     "metadata": {},
     "output_type": "execute_result"
    }
   ],
   "execution_count": 7
  },
  {
   "metadata": {
    "ExecuteTime": {
     "end_time": "2024-06-25T13:17:06.236433Z",
     "start_time": "2024-06-25T13:17:06.233909Z"
    }
   },
   "cell_type": "code",
   "source": "df_return.is_cached",
   "id": "bddf07de88615ee6",
   "outputs": [
    {
     "data": {
      "text/plain": [
       "True"
      ]
     },
     "execution_count": 8,
     "metadata": {},
     "output_type": "execute_result"
    }
   ],
   "execution_count": 8
  },
  {
   "metadata": {
    "ExecuteTime": {
     "end_time": "2024-06-25T13:17:12.063553Z",
     "start_time": "2024-06-25T13:17:06.237571Z"
    }
   },
   "cell_type": "code",
   "source": "df_return.show(truncate=False)",
   "id": "90dd80dec8369a6f",
   "outputs": [
    {
     "name": "stderr",
     "output_type": "stream",
     "text": [
      "                                                                                \r"
     ]
    },
    {
     "name": "stdout",
     "output_type": "stream",
     "text": [
      "+--------------+--------------------------+--------------------------+------+--------+-------------+-------------------------+------------+-----------------+---------------------------------------+---------+--------------------------+--------------------------+--------------------+---------------------+\n",
      "|DateRefProcess|StartProcess              |EndProcess                |Status|ColsDiff|CountDiffBool|CountDiffComplete        |DataDiffBool|DataDiffTotalRows|DataDiffCols                           |iteration|start_creation            |end_creation              |process_time_seconds|creation_time_seconds|\n",
      "+--------------+--------------------------+--------------------------+------+--------+-------------+-------------------------+------------+-----------------+---------------------------------------+---------+--------------------------+--------------------------+--------------------+---------------------+\n",
      "|2024-06-25    |2024-06-25 10:14:13.980746|2024-06-25 10:14:22.019592|NOT OK|true    |true         |df1: 574999 | df2: 575021|false       |NULL             |NULL                                   |0        |2024-06-25 10:14:10.398673|2024-06-25 10:14:13.878964|9                   |3                    |\n",
      "|2024-06-25    |2024-06-25 10:14:23.662081|2024-06-25 10:14:26.513541|OK    |false   |false        |No differences in count. |false       |0                |NULL                                   |1        |2024-06-25 10:14:22.276356|2024-06-25 10:14:23.638145|3                   |1                    |\n",
      "|2024-06-25    |2024-06-25 10:14:27.980148|2024-06-25 10:14:29.089462|NOT OK|true    |true         |df1: 589999 | df2: 590195|false       |NULL             |NULL                                   |2        |2024-06-25 10:14:26.547208|2024-06-25 10:14:27.953749|2                   |1                    |\n",
      "|2024-06-25    |2024-06-25 10:14:30.531699|2024-06-25 10:14:31.523419|NOT OK|false   |true         |df1: 529999 | df2: 530139|false       |NULL             |NULL                                   |3        |2024-06-25 10:14:29.228082|2024-06-25 10:14:30.497664|1                   |1                    |\n",
      "|2024-06-25    |2024-06-25 10:14:33.031445|2024-06-25 10:14:39.890953|NOT OK|false   |false        |No differences in count. |true        |1152             |{col3 -> 384, col4 -> 384, col1 -> 384}|4        |2024-06-25 10:14:31.671635|2024-06-25 10:14:33.00549 |6                   |2                    |\n",
      "|2024-06-25    |2024-06-25 10:14:41.202411|2024-06-25 10:14:46.901549|NOT OK|false   |false        |No differences in count. |true        |210              |{col1 -> 210}                          |5        |2024-06-25 10:14:39.92041 |2024-06-25 10:14:41.18082 |5                   |2                    |\n",
      "|2024-06-25    |2024-06-25 10:14:48.147079|2024-06-25 10:14:49.697408|OK    |false   |false        |No differences in count. |false       |0                |NULL                                   |6        |2024-06-25 10:14:46.93465 |2024-06-25 10:14:48.131954|1                   |2                    |\n",
      "|2024-06-25    |2024-06-25 10:14:51.054226|2024-06-25 10:14:52.659481|OK    |false   |false        |No differences in count. |false       |0                |NULL                                   |7        |2024-06-25 10:14:49.725368|2024-06-25 10:14:51.034801|1                   |2                    |\n",
      "|2024-06-25    |2024-06-25 10:14:53.930273|2024-06-25 10:14:54.911807|NOT OK|false   |true         |df1: 519999 | df2: 520005|false       |NULL             |NULL                                   |8        |2024-06-25 10:14:52.68729 |2024-06-25 10:14:53.910553|1                   |1                    |\n",
      "|2024-06-25    |2024-06-25 10:14:56.258549|2024-06-25 10:14:57.829999|OK    |false   |false        |No differences in count. |false       |0                |NULL                                   |9        |2024-06-25 10:14:55.024918|2024-06-25 10:14:56.244967|1                   |1                    |\n",
      "|2024-06-25    |2024-06-25 10:14:59.208838|2024-06-25 10:15:01.032632|OK    |false   |false        |No differences in count. |false       |0                |NULL                                   |10       |2024-06-25 10:14:57.857716|2024-06-25 10:14:59.191754|2                   |2                    |\n",
      "|2024-06-25    |2024-06-25 10:15:02.511728|2024-06-25 10:15:04.0261  |OK    |false   |false        |No differences in count. |false       |0                |NULL                                   |11       |2024-06-25 10:15:01.060594|2024-06-25 10:15:02.495616|2                   |1                    |\n",
      "|2024-06-25    |2024-06-25 10:15:05.315667|2024-06-25 10:15:06.962547|OK    |false   |false        |No differences in count. |false       |0                |NULL                                   |12       |2024-06-25 10:15:04.053766|2024-06-25 10:15:05.299171|1                   |1                    |\n",
      "|2024-06-25    |2024-06-25 10:15:08.285544|2024-06-25 10:15:09.831518|OK    |false   |false        |No differences in count. |false       |0                |NULL                                   |13       |2024-06-25 10:15:06.995368|2024-06-25 10:15:08.270139|1                   |2                    |\n",
      "|2024-06-25    |2024-06-25 10:15:11.080845|2024-06-25 10:15:12.947875|OK    |false   |false        |No differences in count. |false       |0                |NULL                                   |14       |2024-06-25 10:15:09.861012|2024-06-25 10:15:11.066457|1                   |2                    |\n",
      "|2024-06-25    |2024-06-25 10:15:14.258739|2024-06-25 10:15:16.057669|OK    |false   |false        |No differences in count. |false       |0                |NULL                                   |15       |2024-06-25 10:15:12.978302|2024-06-25 10:15:14.242531|2                   |2                    |\n",
      "|2024-06-25    |2024-06-25 10:15:17.435318|2024-06-25 10:15:19.136482|OK    |false   |false        |No differences in count. |false       |0                |NULL                                   |16       |2024-06-25 10:15:16.083499|2024-06-25 10:15:17.420725|2                   |1                    |\n",
      "|2024-06-25    |2024-06-25 10:15:20.359777|2024-06-25 10:15:21.950396|OK    |false   |false        |No differences in count. |false       |0                |NULL                                   |17       |2024-06-25 10:15:19.163052|2024-06-25 10:15:20.345899|1                   |1                    |\n",
      "|2024-06-25    |2024-06-25 10:15:23.335249|2024-06-25 10:15:25.093041|OK    |false   |false        |No differences in count. |false       |0                |NULL                                   |18       |2024-06-25 10:15:21.97978 |2024-06-25 10:15:23.321407|2                   |2                    |\n",
      "|2024-06-25    |2024-06-25 10:15:26.489997|2024-06-25 10:15:28.19134 |OK    |false   |false        |No differences in count. |false       |0                |NULL                                   |19       |2024-06-25 10:15:25.118655|2024-06-25 10:15:26.474684|2                   |1                    |\n",
      "+--------------+--------------------------+--------------------------+------+--------+-------------+-------------------------+------------+-----------------+---------------------------------------+---------+--------------------------+--------------------------+--------------------+---------------------+\n",
      "only showing top 20 rows\n",
      "\n"
     ]
    }
   ],
   "execution_count": 9
  },
  {
   "metadata": {},
   "cell_type": "markdown",
   "source": [
    "---\n",
    "## Report showing tables that are OK"
   ],
   "id": "dfe696e4864a324d"
  },
  {
   "metadata": {
    "ExecuteTime": {
     "end_time": "2024-06-25T13:18:08.232362Z",
     "start_time": "2024-06-25T13:18:07.234185Z"
    }
   },
   "cell_type": "code",
   "source": "df_return.where(col('Status') == 'OK').orderBy(*[desc('process_time_seconds'), asc('iteration')]).withColumn('count', monotonically_increasing_id() + 1).select(['count', 'iteration'] + [column for column in df_return.columns if column not in ['iteration', 'count']]).show(100, truncate=False)",
   "id": "cf2c7fdff6f0fefd",
   "outputs": [
    {
     "name": "stdout",
     "output_type": "stream",
     "text": [
      "+-----+---------+--------------+--------------------------+--------------------------+------+--------+-------------+------------------------+------------+-----------------+------------+--------------------------+--------------------------+--------------------+---------------------+\n",
      "|count|iteration|DateRefProcess|StartProcess              |EndProcess                |Status|ColsDiff|CountDiffBool|CountDiffComplete       |DataDiffBool|DataDiffTotalRows|DataDiffCols|start_creation            |end_creation              |process_time_seconds|creation_time_seconds|\n",
      "+-----+---------+--------------+--------------------------+--------------------------+------+--------+-------------+------------------------+------------+-----------------+------------+--------------------------+--------------------------+--------------------+---------------------+\n",
      "|1    |1        |2024-06-25    |2024-06-25 10:14:23.662081|2024-06-25 10:14:26.513541|OK    |false   |false        |No differences in count.|false       |0                |NULL        |2024-06-25 10:14:22.276356|2024-06-25 10:14:23.638145|3                   |1                    |\n",
      "|2    |10       |2024-06-25    |2024-06-25 10:14:59.208838|2024-06-25 10:15:01.032632|OK    |false   |false        |No differences in count.|false       |0                |NULL        |2024-06-25 10:14:57.857716|2024-06-25 10:14:59.191754|2                   |2                    |\n",
      "|3    |11       |2024-06-25    |2024-06-25 10:15:02.511728|2024-06-25 10:15:04.0261  |OK    |false   |false        |No differences in count.|false       |0                |NULL        |2024-06-25 10:15:01.060594|2024-06-25 10:15:02.495616|2                   |1                    |\n",
      "|4    |15       |2024-06-25    |2024-06-25 10:15:14.258739|2024-06-25 10:15:16.057669|OK    |false   |false        |No differences in count.|false       |0                |NULL        |2024-06-25 10:15:12.978302|2024-06-25 10:15:14.242531|2                   |2                    |\n",
      "|5    |16       |2024-06-25    |2024-06-25 10:15:17.435318|2024-06-25 10:15:19.136482|OK    |false   |false        |No differences in count.|false       |0                |NULL        |2024-06-25 10:15:16.083499|2024-06-25 10:15:17.420725|2                   |1                    |\n",
      "|6    |18       |2024-06-25    |2024-06-25 10:15:23.335249|2024-06-25 10:15:25.093041|OK    |false   |false        |No differences in count.|false       |0                |NULL        |2024-06-25 10:15:21.97978 |2024-06-25 10:15:23.321407|2                   |2                    |\n",
      "|7    |19       |2024-06-25    |2024-06-25 10:15:26.489997|2024-06-25 10:15:28.19134 |OK    |false   |false        |No differences in count.|false       |0                |NULL        |2024-06-25 10:15:25.118655|2024-06-25 10:15:26.474684|2                   |1                    |\n",
      "|8    |20       |2024-06-25    |2024-06-25 10:15:29.508073|2024-06-25 10:15:31.235651|OK    |false   |false        |No differences in count.|false       |0                |NULL        |2024-06-25 10:15:28.217894|2024-06-25 10:15:29.491466|2                   |1                    |\n",
      "|9    |21       |2024-06-25    |2024-06-25 10:15:32.598427|2024-06-25 10:15:34.204051|OK    |false   |false        |No differences in count.|false       |0                |NULL        |2024-06-25 10:15:31.261451|2024-06-25 10:15:32.584331|2                   |1                    |\n",
      "|10   |22       |2024-06-25    |2024-06-25 10:15:35.433407|2024-06-25 10:15:37.114023|OK    |false   |false        |No differences in count.|false       |0                |NULL        |2024-06-25 10:15:34.230455|2024-06-25 10:15:35.419603|2                   |1                    |\n",
      "|11   |23       |2024-06-25    |2024-06-25 10:15:38.470656|2024-06-25 10:15:40.252412|OK    |false   |false        |No differences in count.|false       |0                |NULL        |2024-06-25 10:15:37.141192|2024-06-25 10:15:38.457136|2                   |1                    |\n",
      "|12   |24       |2024-06-25    |2024-06-25 10:15:41.560333|2024-06-25 10:15:43.304818|OK    |false   |false        |No differences in count.|false       |0                |NULL        |2024-06-25 10:15:40.280879|2024-06-25 10:15:41.546688|2                   |1                    |\n",
      "|13   |27       |2024-06-25    |2024-06-25 10:15:54.849346|2024-06-25 10:15:56.451087|OK    |false   |false        |No differences in count.|false       |0                |NULL        |2024-06-25 10:15:53.646695|2024-06-25 10:15:54.832426|2                   |1                    |\n",
      "|14   |28       |2024-06-25    |2024-06-25 10:15:57.787163|2024-06-25 10:15:59.518121|OK    |false   |false        |No differences in count.|false       |0                |NULL        |2024-06-25 10:15:56.476211|2024-06-25 10:15:57.772566|2                   |1                    |\n",
      "|15   |29       |2024-06-25    |2024-06-25 10:16:00.816364|2024-06-25 10:16:02.606496|OK    |false   |false        |No differences in count.|false       |0                |NULL        |2024-06-25 10:15:59.546436|2024-06-25 10:16:00.803208|2                   |1                    |\n",
      "|16   |31       |2024-06-25    |2024-06-25 10:16:11.244725|2024-06-25 10:16:13.322002|OK    |false   |false        |No differences in count.|false       |0                |NULL        |2024-06-25 10:16:09.849516|2024-06-25 10:16:11.235964|2                   |2                    |\n",
      "|17   |34       |2024-06-25    |2024-06-25 10:16:20.309462|2024-06-25 10:16:22.236172|OK    |false   |false        |No differences in count.|false       |0                |NULL        |2024-06-25 10:16:18.936345|2024-06-25 10:16:20.295524|2                   |2                    |\n",
      "|18   |35       |2024-06-25    |2024-06-25 10:16:23.634678|2024-06-25 10:16:25.439534|OK    |false   |false        |No differences in count.|false       |0                |NULL        |2024-06-25 10:16:22.268786|2024-06-25 10:16:23.621913|2                   |1                    |\n",
      "|19   |36       |2024-06-25    |2024-06-25 10:16:26.750975|2024-06-25 10:16:28.540553|OK    |false   |false        |No differences in count.|false       |0                |NULL        |2024-06-25 10:16:25.466023|2024-06-25 10:16:26.736984|2                   |1                    |\n",
      "|20   |37       |2024-06-25    |2024-06-25 10:16:29.940555|2024-06-25 10:16:31.702944|OK    |false   |false        |No differences in count.|false       |0                |NULL        |2024-06-25 10:16:28.570397|2024-06-25 10:16:29.92661 |2                   |1                    |\n",
      "|21   |39       |2024-06-25    |2024-06-25 10:16:36.382619|2024-06-25 10:16:38.180612|OK    |false   |false        |No differences in count.|false       |0                |NULL        |2024-06-25 10:16:35.007889|2024-06-25 10:16:36.369347|2                   |1                    |\n",
      "|22   |42       |2024-06-25    |2024-06-25 10:16:44.828691|2024-06-25 10:16:46.390295|OK    |false   |false        |No differences in count.|false       |0                |NULL        |2024-06-25 10:16:43.602742|2024-06-25 10:16:44.815058|2                   |1                    |\n",
      "|23   |43       |2024-06-25    |2024-06-25 10:16:47.665928|2024-06-25 10:16:49.262061|OK    |false   |false        |No differences in count.|false       |0                |NULL        |2024-06-25 10:16:46.420458|2024-06-25 10:16:47.650848|2                   |1                    |\n",
      "|24   |44       |2024-06-25    |2024-06-25 10:16:50.585209|2024-06-25 10:16:52.335155|OK    |false   |false        |No differences in count.|false       |0                |NULL        |2024-06-25 10:16:49.289675|2024-06-25 10:16:50.572456|2                   |1                    |\n",
      "|25   |48       |2024-06-25    |2024-06-25 10:17:01.287898|2024-06-25 10:17:03.003492|OK    |false   |false        |No differences in count.|false       |0                |NULL        |2024-06-25 10:17:00.037615|2024-06-25 10:17:01.274457|2                   |1                    |\n",
      "|26   |49       |2024-06-25    |2024-06-25 10:17:04.346036|2024-06-25 10:17:06.09202 |OK    |false   |false        |No differences in count.|false       |0                |NULL        |2024-06-25 10:17:03.031162|2024-06-25 10:17:04.331547|2                   |1                    |\n",
      "|27   |6        |2024-06-25    |2024-06-25 10:14:48.147079|2024-06-25 10:14:49.697408|OK    |false   |false        |No differences in count.|false       |0                |NULL        |2024-06-25 10:14:46.93465 |2024-06-25 10:14:48.131954|1                   |2                    |\n",
      "|28   |7        |2024-06-25    |2024-06-25 10:14:51.054226|2024-06-25 10:14:52.659481|OK    |false   |false        |No differences in count.|false       |0                |NULL        |2024-06-25 10:14:49.725368|2024-06-25 10:14:51.034801|1                   |2                    |\n",
      "|29   |9        |2024-06-25    |2024-06-25 10:14:56.258549|2024-06-25 10:14:57.829999|OK    |false   |false        |No differences in count.|false       |0                |NULL        |2024-06-25 10:14:55.024918|2024-06-25 10:14:56.244967|1                   |1                    |\n",
      "|30   |12       |2024-06-25    |2024-06-25 10:15:05.315667|2024-06-25 10:15:06.962547|OK    |false   |false        |No differences in count.|false       |0                |NULL        |2024-06-25 10:15:04.053766|2024-06-25 10:15:05.299171|1                   |1                    |\n",
      "|31   |13       |2024-06-25    |2024-06-25 10:15:08.285544|2024-06-25 10:15:09.831518|OK    |false   |false        |No differences in count.|false       |0                |NULL        |2024-06-25 10:15:06.995368|2024-06-25 10:15:08.270139|1                   |2                    |\n",
      "|32   |14       |2024-06-25    |2024-06-25 10:15:11.080845|2024-06-25 10:15:12.947875|OK    |false   |false        |No differences in count.|false       |0                |NULL        |2024-06-25 10:15:09.861012|2024-06-25 10:15:11.066457|1                   |2                    |\n",
      "|33   |17       |2024-06-25    |2024-06-25 10:15:20.359777|2024-06-25 10:15:21.950396|OK    |false   |false        |No differences in count.|false       |0                |NULL        |2024-06-25 10:15:19.163052|2024-06-25 10:15:20.345899|1                   |1                    |\n",
      "|34   |26       |2024-06-25    |2024-06-25 10:15:52.091963|2024-06-25 10:15:53.616258|OK    |false   |false        |No differences in count.|false       |0                |NULL        |2024-06-25 10:15:50.81926 |2024-06-25 10:15:52.07775 |1                   |2                    |\n",
      "|35   |33       |2024-06-25    |2024-06-25 10:16:17.179938|2024-06-25 10:16:18.909452|OK    |false   |false        |No differences in count.|false       |0                |NULL        |2024-06-25 10:16:15.85097 |2024-06-25 10:16:17.161455|1                   |2                    |\n",
      "|36   |38       |2024-06-25    |2024-06-25 10:16:33.018699|2024-06-25 10:16:34.98102 |OK    |false   |false        |No differences in count.|false       |0                |NULL        |2024-06-25 10:16:31.728136|2024-06-25 10:16:33.005097|1                   |2                    |\n",
      "|37   |41       |2024-06-25    |2024-06-25 10:16:42.084026|2024-06-25 10:16:43.568325|OK    |false   |false        |No differences in count.|false       |0                |NULL        |2024-06-25 10:16:40.869802|2024-06-25 10:16:42.071257|1                   |2                    |\n",
      "|38   |46       |2024-06-25    |2024-06-25 10:16:56.061843|2024-06-25 10:16:57.869245|OK    |false   |false        |No differences in count.|false       |0                |NULL        |2024-06-25 10:16:54.792234|2024-06-25 10:16:56.048378|1                   |2                    |\n",
      "+-----+---------+--------------+--------------------------+--------------------------+------+--------+-------------+------------------------+------------+-----------------+------------+--------------------------+--------------------------+--------------------+---------------------+\n",
      "\n"
     ]
    }
   ],
   "execution_count": 16
  },
  {
   "metadata": {},
   "cell_type": "markdown",
   "source": [
    "---\n",
    "## Report showing tables that aren't OK"
   ],
   "id": "544fef749e73212d"
  },
  {
   "metadata": {
    "ExecuteTime": {
     "end_time": "2024-06-25T13:17:56.270507Z",
     "start_time": "2024-06-25T13:17:54.919710Z"
    }
   },
   "cell_type": "code",
   "source": [
    "(df_return.where(col('Status') != 'OK').orderBy(*[asc('ColsDiff'), asc('CountDiffBool')])\n",
    "          .withColumn('count', monotonically_increasing_id() + 1)\n",
    "          .select(['count', 'iteration'] + [column for column in df_return.columns if column not in ['iteration', 'count']])\n",
    "          .show(truncate=False))"
   ],
   "id": "1a8b97ab1b327bc3",
   "outputs": [
    {
     "name": "stderr",
     "output_type": "stream",
     "text": [
      "                                                                                \r"
     ]
    },
    {
     "name": "stdout",
     "output_type": "stream",
     "text": [
      "+-----+---------+--------------+--------------------------+--------------------------+------+--------+-------------+-------------------------+------------+-----------------+---------------------------------------+--------------------------+--------------------------+--------------------+---------------------+\n",
      "|count|iteration|DateRefProcess|StartProcess              |EndProcess                |Status|ColsDiff|CountDiffBool|CountDiffComplete        |DataDiffBool|DataDiffTotalRows|DataDiffCols                           |start_creation            |end_creation              |process_time_seconds|creation_time_seconds|\n",
      "+-----+---------+--------------+--------------------------+--------------------------+------+--------+-------------+-------------------------+------------+-----------------+---------------------------------------+--------------------------+--------------------------+--------------------+---------------------+\n",
      "|1    |4        |2024-06-25    |2024-06-25 10:14:33.031445|2024-06-25 10:14:39.890953|NOT OK|false   |false        |No differences in count. |true        |1152             |{col3 -> 384, col4 -> 384, col1 -> 384}|2024-06-25 10:14:31.671635|2024-06-25 10:14:33.00549 |6                   |2                    |\n",
      "|2    |5        |2024-06-25    |2024-06-25 10:14:41.202411|2024-06-25 10:14:46.901549|NOT OK|false   |false        |No differences in count. |true        |210              |{col1 -> 210}                          |2024-06-25 10:14:39.92041 |2024-06-25 10:14:41.18082 |5                   |2                    |\n",
      "|3    |25       |2024-06-25    |2024-06-25 10:15:44.542195|2024-06-25 10:15:50.79451 |NOT OK|false   |false        |No differences in count. |true        |261              |{col3 -> 242, col4 -> 19}              |2024-06-25 10:15:43.332825|2024-06-25 10:15:44.525203|6                   |1                    |\n",
      "|4    |30       |2024-06-25    |2024-06-25 10:16:03.84004 |2024-06-25 10:16:09.824915|NOT OK|false   |false        |No differences in count. |true        |192              |{col2 -> 12, col1 -> 180}              |2024-06-25 10:16:02.632186|2024-06-25 10:16:03.823491|6                   |1                    |\n",
      "|5    |3        |2024-06-25    |2024-06-25 10:14:30.531699|2024-06-25 10:14:31.523419|NOT OK|false   |true         |df1: 529999 | df2: 530139|false       |NULL             |NULL                                   |2024-06-25 10:14:29.228082|2024-06-25 10:14:30.497664|1                   |1                    |\n",
      "|6    |8        |2024-06-25    |2024-06-25 10:14:53.930273|2024-06-25 10:14:54.911807|NOT OK|false   |true         |df1: 519999 | df2: 520005|false       |NULL             |NULL                                   |2024-06-25 10:14:52.68729 |2024-06-25 10:14:53.910553|1                   |1                    |\n",
      "|7    |40       |2024-06-25    |2024-06-25 10:16:39.555749|2024-06-25 10:16:40.74785 |NOT OK|false   |true         |df1: 569999 | df2: 570162|false       |NULL             |NULL                                   |2024-06-25 10:16:38.213095|2024-06-25 10:16:39.535661|1                   |1                    |\n",
      "|8    |45       |2024-06-25    |2024-06-25 10:16:53.670629|2024-06-25 10:16:54.683087|NOT OK|false   |true         |df1: 549999 | df2: 550053|false       |NULL             |NULL                                   |2024-06-25 10:16:52.363441|2024-06-25 10:16:53.652596|1                   |1                    |\n",
      "|9    |32       |2024-06-25    |2024-06-25 10:16:14.577399|2024-06-25 10:16:15.820011|NOT OK|true    |false        |No differences in count. |false       |NULL             |NULL                                   |2024-06-25 10:16:13.346119|2024-06-25 10:16:14.562428|1                   |1                    |\n",
      "|10   |47       |2024-06-25    |2024-06-25 10:16:59.140602|2024-06-25 10:17:00.013629|NOT OK|true    |false        |No differences in count. |false       |NULL             |NULL                                   |2024-06-25 10:16:57.894642|2024-06-25 10:16:59.124602|1                   |2                    |\n",
      "|11   |0        |2024-06-25    |2024-06-25 10:14:13.980746|2024-06-25 10:14:22.019592|NOT OK|true    |true         |df1: 574999 | df2: 575021|false       |NULL             |NULL                                   |2024-06-25 10:14:10.398673|2024-06-25 10:14:13.878964|9                   |3                    |\n",
      "|12   |2        |2024-06-25    |2024-06-25 10:14:27.980148|2024-06-25 10:14:29.089462|NOT OK|true    |true         |df1: 589999 | df2: 590195|false       |NULL             |NULL                                   |2024-06-25 10:14:26.547208|2024-06-25 10:14:27.953749|2                   |1                    |\n",
      "+-----+---------+--------------+--------------------------+--------------------------+------+--------+-------------+-------------------------+------------+-----------------+---------------------------------------+--------------------------+--------------------------+--------------------+---------------------+\n",
      "\n"
     ]
    }
   ],
   "execution_count": 11
  },
  {
   "metadata": {},
   "cell_type": "markdown",
   "source": [
    "---\n",
    "## Report showing tables with only differences on data"
   ],
   "id": "7d34f49dd8bc2a2b"
  },
  {
   "metadata": {
    "ExecuteTime": {
     "end_time": "2024-06-25T13:17:57.537001Z",
     "start_time": "2024-06-25T13:17:56.271860Z"
    }
   },
   "cell_type": "code",
   "source": [
    "(df_return.where((col('Status') != 'OK') & (col('ColsDiff') == False) & (col('CountDiffBool') == False))\n",
    "          .orderBy(*[desc('process_time_seconds'), asc('iteration')])\n",
    "          .withColumn('count', monotonically_increasing_id()).select(['count', 'iteration'] + [column for column in df_return.columns if column not in ['iteration', 'count']])\n",
    "          .show(truncate=False))"
   ],
   "id": "680a5bb762a5d20f",
   "outputs": [
    {
     "name": "stdout",
     "output_type": "stream",
     "text": [
      "+-----+---------+--------------+--------------------------+--------------------------+------+--------+-------------+------------------------+------------+-----------------+---------------------------------------+--------------------------+--------------------------+--------------------+---------------------+\n",
      "|count|iteration|DateRefProcess|StartProcess              |EndProcess                |Status|ColsDiff|CountDiffBool|CountDiffComplete       |DataDiffBool|DataDiffTotalRows|DataDiffCols                           |start_creation            |end_creation              |process_time_seconds|creation_time_seconds|\n",
      "+-----+---------+--------------+--------------------------+--------------------------+------+--------+-------------+------------------------+------------+-----------------+---------------------------------------+--------------------------+--------------------------+--------------------+---------------------+\n",
      "|0    |4        |2024-06-25    |2024-06-25 10:14:33.031445|2024-06-25 10:14:39.890953|NOT OK|false   |false        |No differences in count.|true        |1152             |{col3 -> 384, col4 -> 384, col1 -> 384}|2024-06-25 10:14:31.671635|2024-06-25 10:14:33.00549 |6                   |2                    |\n",
      "|1    |25       |2024-06-25    |2024-06-25 10:15:44.542195|2024-06-25 10:15:50.79451 |NOT OK|false   |false        |No differences in count.|true        |261              |{col3 -> 242, col4 -> 19}              |2024-06-25 10:15:43.332825|2024-06-25 10:15:44.525203|6                   |1                    |\n",
      "|2    |30       |2024-06-25    |2024-06-25 10:16:03.84004 |2024-06-25 10:16:09.824915|NOT OK|false   |false        |No differences in count.|true        |192              |{col2 -> 12, col1 -> 180}              |2024-06-25 10:16:02.632186|2024-06-25 10:16:03.823491|6                   |1                    |\n",
      "|3    |5        |2024-06-25    |2024-06-25 10:14:41.202411|2024-06-25 10:14:46.901549|NOT OK|false   |false        |No differences in count.|true        |210              |{col1 -> 210}                          |2024-06-25 10:14:39.92041 |2024-06-25 10:14:41.18082 |5                   |2                    |\n",
      "+-----+---------+--------------+--------------------------+--------------------------+------+--------+-------------+------------------------+------------+-----------------+---------------------------------------+--------------------------+--------------------------+--------------------+---------------------+\n",
      "\n"
     ]
    },
    {
     "name": "stderr",
     "output_type": "stream",
     "text": [
      "                                                                                \r"
     ]
    }
   ],
   "execution_count": 12
  },
  {
   "metadata": {},
   "cell_type": "markdown",
   "source": [
    "---\n",
    "## Report showing tables with differences on count and columns"
   ],
   "id": "473608a71467882a"
  },
  {
   "metadata": {
    "ExecuteTime": {
     "end_time": "2024-06-25T13:17:58.145816Z",
     "start_time": "2024-06-25T13:17:57.538602Z"
    }
   },
   "cell_type": "code",
   "source": "df_return.where((col('Status') != 'OK') & (col('ColsDiff') == True) & (col('CountDiffBool') == True)).show(truncate=False)",
   "id": "e968fb6858abf0d4",
   "outputs": [
    {
     "name": "stdout",
     "output_type": "stream",
     "text": [
      "+--------------+--------------------------+--------------------------+------+--------+-------------+-------------------------+------------+-----------------+------------+---------+--------------------------+--------------------------+--------------------+---------------------+\n",
      "|DateRefProcess|StartProcess              |EndProcess                |Status|ColsDiff|CountDiffBool|CountDiffComplete        |DataDiffBool|DataDiffTotalRows|DataDiffCols|iteration|start_creation            |end_creation              |process_time_seconds|creation_time_seconds|\n",
      "+--------------+--------------------------+--------------------------+------+--------+-------------+-------------------------+------------+-----------------+------------+---------+--------------------------+--------------------------+--------------------+---------------------+\n",
      "|2024-06-25    |2024-06-25 10:14:13.980746|2024-06-25 10:14:22.019592|NOT OK|true    |true         |df1: 574999 | df2: 575021|false       |NULL             |NULL        |0        |2024-06-25 10:14:10.398673|2024-06-25 10:14:13.878964|9                   |3                    |\n",
      "|2024-06-25    |2024-06-25 10:14:27.980148|2024-06-25 10:14:29.089462|NOT OK|true    |true         |df1: 589999 | df2: 590195|false       |NULL             |NULL        |2        |2024-06-25 10:14:26.547208|2024-06-25 10:14:27.953749|2                   |1                    |\n",
      "+--------------+--------------------------+--------------------------+------+--------+-------------+-------------------------+------------+-----------------+------------+---------+--------------------------+--------------------------+--------------------+---------------------+\n",
      "\n"
     ]
    }
   ],
   "execution_count": 13
  },
  {
   "metadata": {
    "ExecuteTime": {
     "end_time": "2024-06-25T13:17:58.806354Z",
     "start_time": "2024-06-25T13:17:58.147099Z"
    }
   },
   "cell_type": "code",
   "source": "df_return.where((col('Status') != 'OK') & (col('ColsDiff') == True)).show(truncate=False)",
   "id": "41706d703a5255c9",
   "outputs": [
    {
     "name": "stdout",
     "output_type": "stream",
     "text": [
      "+--------------+--------------------------+--------------------------+------+--------+-------------+-------------------------+------------+-----------------+------------+---------+--------------------------+--------------------------+--------------------+---------------------+\n",
      "|DateRefProcess|StartProcess              |EndProcess                |Status|ColsDiff|CountDiffBool|CountDiffComplete        |DataDiffBool|DataDiffTotalRows|DataDiffCols|iteration|start_creation            |end_creation              |process_time_seconds|creation_time_seconds|\n",
      "+--------------+--------------------------+--------------------------+------+--------+-------------+-------------------------+------------+-----------------+------------+---------+--------------------------+--------------------------+--------------------+---------------------+\n",
      "|2024-06-25    |2024-06-25 10:14:13.980746|2024-06-25 10:14:22.019592|NOT OK|true    |true         |df1: 574999 | df2: 575021|false       |NULL             |NULL        |0        |2024-06-25 10:14:10.398673|2024-06-25 10:14:13.878964|9                   |3                    |\n",
      "|2024-06-25    |2024-06-25 10:14:27.980148|2024-06-25 10:14:29.089462|NOT OK|true    |true         |df1: 589999 | df2: 590195|false       |NULL             |NULL        |2        |2024-06-25 10:14:26.547208|2024-06-25 10:14:27.953749|2                   |1                    |\n",
      "|2024-06-25    |2024-06-25 10:16:14.577399|2024-06-25 10:16:15.820011|NOT OK|true    |false        |No differences in count. |false       |NULL             |NULL        |32       |2024-06-25 10:16:13.346119|2024-06-25 10:16:14.562428|1                   |1                    |\n",
      "|2024-06-25    |2024-06-25 10:16:59.140602|2024-06-25 10:17:00.013629|NOT OK|true    |false        |No differences in count. |false       |NULL             |NULL        |47       |2024-06-25 10:16:57.894642|2024-06-25 10:16:59.124602|1                   |2                    |\n",
      "+--------------+--------------------------+--------------------------+------+--------+-------------+-------------------------+------------+-----------------+------------+---------+--------------------------+--------------------------+--------------------+---------------------+\n",
      "\n"
     ]
    }
   ],
   "execution_count": 14
  },
  {
   "metadata": {
    "ExecuteTime": {
     "end_time": "2024-06-25T13:17:59.445653Z",
     "start_time": "2024-06-25T13:17:58.807787Z"
    }
   },
   "cell_type": "code",
   "source": "df_return.where((col('Status') != 'OK') & (col('ColsDiff') == False) & (col('CountDiffBool') == True)).show(truncate=False)",
   "id": "c8564606a66260ee",
   "outputs": [
    {
     "name": "stdout",
     "output_type": "stream",
     "text": [
      "+--------------+--------------------------+--------------------------+------+--------+-------------+-------------------------+------------+-----------------+------------+---------+--------------------------+--------------------------+--------------------+---------------------+\n",
      "|DateRefProcess|StartProcess              |EndProcess                |Status|ColsDiff|CountDiffBool|CountDiffComplete        |DataDiffBool|DataDiffTotalRows|DataDiffCols|iteration|start_creation            |end_creation              |process_time_seconds|creation_time_seconds|\n",
      "+--------------+--------------------------+--------------------------+------+--------+-------------+-------------------------+------------+-----------------+------------+---------+--------------------------+--------------------------+--------------------+---------------------+\n",
      "|2024-06-25    |2024-06-25 10:14:30.531699|2024-06-25 10:14:31.523419|NOT OK|false   |true         |df1: 529999 | df2: 530139|false       |NULL             |NULL        |3        |2024-06-25 10:14:29.228082|2024-06-25 10:14:30.497664|1                   |1                    |\n",
      "|2024-06-25    |2024-06-25 10:14:53.930273|2024-06-25 10:14:54.911807|NOT OK|false   |true         |df1: 519999 | df2: 520005|false       |NULL             |NULL        |8        |2024-06-25 10:14:52.68729 |2024-06-25 10:14:53.910553|1                   |1                    |\n",
      "|2024-06-25    |2024-06-25 10:16:39.555749|2024-06-25 10:16:40.74785 |NOT OK|false   |true         |df1: 569999 | df2: 570162|false       |NULL             |NULL        |40       |2024-06-25 10:16:38.213095|2024-06-25 10:16:39.535661|1                   |1                    |\n",
      "|2024-06-25    |2024-06-25 10:16:53.670629|2024-06-25 10:16:54.683087|NOT OK|false   |true         |df1: 549999 | df2: 550053|false       |NULL             |NULL        |45       |2024-06-25 10:16:52.363441|2024-06-25 10:16:53.652596|1                   |1                    |\n",
      "+--------------+--------------------------+--------------------------+------+--------+-------------+-------------------------+------------+-----------------+------------+---------+--------------------------+--------------------------+--------------------+---------------------+\n",
      "\n"
     ]
    }
   ],
   "execution_count": 15
  },
  {
   "metadata": {},
   "cell_type": "code",
   "source": "",
   "id": "4ec31ba20544f8a9",
   "outputs": [],
   "execution_count": null
  }
 ],
 "metadata": {
  "kernelspec": {
   "display_name": "Python 3",
   "language": "python",
   "name": "python3"
  },
  "language_info": {
   "codemirror_mode": {
    "name": "ipython",
    "version": 2
   },
   "file_extension": ".py",
   "mimetype": "text/x-python",
   "name": "python",
   "nbconvert_exporter": "python",
   "pygments_lexer": "ipython2",
   "version": "2.7.6"
  }
 },
 "nbformat": 4,
 "nbformat_minor": 5
}
