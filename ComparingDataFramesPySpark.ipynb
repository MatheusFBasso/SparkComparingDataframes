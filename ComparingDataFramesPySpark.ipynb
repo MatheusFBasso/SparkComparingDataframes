{
 "cells": [
  {
   "metadata": {},
   "cell_type": "markdown",
   "source": "# Setting PySpark",
   "id": "1cb184c568af512f"
  },
  {
   "metadata": {
    "ExecuteTime": {
     "end_time": "2024-06-23T19:16:20.090910Z",
     "start_time": "2024-06-23T19:16:19.816627Z"
    }
   },
   "cell_type": "code",
   "source": [
    "import pyspark\n",
    "pyspark_version = pyspark.__version__\n",
    "from pyspark.sql import SparkSession\n",
    "\n",
    "\n",
    "class StartSpark:\n",
    "\n",
    "    ####################################################################################################################\n",
    "    def __init__(self, app_name: str = 'PySparkDf'):\n",
    "        super().__init__()\n",
    "        self._appName = app_name\n",
    "\n",
    "    ####################################################################################################################\n",
    "    def initialize(self):\n",
    "\n",
    "        # --------------------------------------------------------------------------------------------------------------\n",
    "        spark = (SparkSession\n",
    "                 .builder\n",
    "                 .master(\"local[*]\")\n",
    "                 .config('spark.driver.host', 'localhost')\n",
    "                 .appName(self._appName)\n",
    "                 .getOrCreate()\n",
    "                 )\n",
    "        pyspark_version_info_1 = str(pyspark_version)\n",
    "        pyspark_version_info = f'Version = {pyspark_version_info_1} '.ljust(19, ' ')\n",
    "        spark.sparkContext.setLogLevel(\"ERROR\")\n",
    "        # --------------------------------------------------------------------------------------------------------------\n",
    "        print(f\"\"\"{' ' * 9} _____      _____                  _      _   _____               _       \"\"\")\n",
    "        print(f\"\"\"{' ' * 9}| ___ \\    /  ___|                | |    | | | ___ \\             | |      \"\"\")\n",
    "        print(f\"\"\"{' ' * 9}| |_/ /   _\\ `--. _ __   __ _ _ __| | __ | | | |_/ /___  __ _  __| |_   _ \"\"\")\n",
    "        print(f\"\"\"{' ' * 9}|  __/ | | |`--. \\ '_ \\ / _` | '__| |/ / | | |    // _ \\/ _` |/ _` | | | |\"\"\")\n",
    "        print(f\"\"\"{' ' * 9}| |  | |_| /\\__/ / |_) | (_| | |  |   <  | | | |\\ \\  __/ (_| | (_| | |_| |\"\"\")\n",
    "        print(f\"\"\"{' ' * 9}\\_|   \\__, \\____/| .__/ \\__,_|_|  |_|\\_\\ | | \\_| \\_\\___|\\__,_|\\__,_|\\__, |\"\"\")\n",
    "        print(f\"\"\"{' ' * 9}       __/ |     | |                     | |                         __/ |\"\"\")\n",
    "        print(f\"\"\"{' ' * 9}      |___/      |_| {pyspark_version_info} |_|                        |___/ \"\"\")\n",
    "        # --------------------------------------------------------------------------------------------------------------\n",
    "        \n",
    "        return spark"
   ],
   "id": "initial_id",
   "outputs": [],
   "execution_count": 1
  },
  {
   "metadata": {},
   "cell_type": "markdown",
   "source": [
    "---\n",
    "\n",
    "# Starting PySpark"
   ],
   "id": "3f4d71b2771fec6d"
  },
  {
   "metadata": {
    "ExecuteTime": {
     "end_time": "2024-06-23T19:16:27.125830Z",
     "start_time": "2024-06-23T19:16:26.971088Z"
    }
   },
   "cell_type": "code",
   "source": "spark = StartSpark().initialize()",
   "id": "5f31154afb5757b",
   "outputs": [
    {
     "name": "stdout",
     "output_type": "stream",
     "text": [
      "          _____      _____                  _      _   _____               _       \n",
      "         | ___ \\    /  ___|                | |    | | | ___ \\             | |      \n",
      "         | |_/ /   _\\ `--. _ __   __ _ _ __| | __ | | | |_/ /___  __ _  __| |_   _ \n",
      "         |  __/ | | |`--. \\ '_ \\ / _` | '__| |/ / | | |    // _ \\/ _` |/ _` | | | |\n",
      "         | |  | |_| /\\__/ / |_) | (_| | |  |   <  | | | |\\ \\  __/ (_| | (_| | |_| |\n",
      "         \\_|   \\__, \\____/| .__/ \\__,_|_|  |_|\\_\\ | | \\_| \\_\\___|\\__,_|\\__,_|\\__, |\n",
      "                __/ |     | |                     | |                         __/ |\n",
      "               |___/      |_| Version = 3.5.0     |_|                        |___/ \n"
     ]
    }
   ],
   "execution_count": 4
  },
  {
   "metadata": {},
   "cell_type": "markdown",
   "source": [
    "---\n",
    "# Importing functions needed"
   ],
   "id": "93ec04be5ca617ed"
  },
  {
   "metadata": {
    "ExecuteTime": {
     "end_time": "2024-06-23T19:18:59.578131Z",
     "start_time": "2024-06-23T19:18:59.570270Z"
    }
   },
   "cell_type": "code",
   "source": [
    "from pyspark.sql.types import StructType, StructField, StringType, BooleanType, TimestampType, DateType, IntegerType, MapType, LongType\n",
    "from pyspark.sql.functions import when, col, lit, asc, desc, monotonically_increasing_id\n",
    "from pyspark.sql.dataframe import DataFrame as SparkDF\n",
    "from datetime import datetime"
   ],
   "id": "18e7cc53f669936",
   "outputs": [],
   "execution_count": 12
  },
  {
   "metadata": {},
   "cell_type": "markdown",
   "source": [
    "---\n",
    "# Defining DFs"
   ],
   "id": "f71f7b2022461bc6"
  },
  {
   "metadata": {},
   "cell_type": "code",
   "source": [
    "schema = StructType([\n",
    "    StructField('col1', StringType(), True),\n",
    "    StructField('col2', StringType(), True),\n",
    "    StructField('col3', StringType(), True),\n",
    "    StructField('col4', StringType(), True),\n",
    "])\n",
    "\n",
    "data = [tuple([f'a_{x}_{str(y).zfill(4)}' for x in range(1,5)]) for y in range(1,1000000)]\n",
    "\n",
    "df_1 = spark.createDataFrame(data=data, schema=schema).cache()\n",
    "df_2 = df_1\n",
    "\n",
    "df_2 = df_2.withColumn('col2', when(col('col2').like('%_02%'), 'DIFF').otherwise(col('col2')))\n",
    "df_2 = df_2.withColumn('col3', when(col('col3').like('%_03%'), 'DIFF').otherwise(col('col3')))"
   ],
   "id": "32befa0eb6cff56",
   "outputs": [],
   "execution_count": null
  },
  {
   "metadata": {},
   "cell_type": "markdown",
   "source": [
    "---\n",
    "# Manual Testing (testing validation options)"
   ],
   "id": "66d24eca2a9ef95e"
  },
  {
   "metadata": {},
   "cell_type": "code",
   "source": [
    "def lower_df_columns(df: SparkDF, lower_var: bool = True):\n",
    "    if lower_var:\n",
    "        df = df.toDF(*[_col.lower() for _col in df.columns])\n",
    "        return df\n",
    "    else:\n",
    "        df = df.toDF(*[_col.upper() for _col in df.columns])\n",
    "        return df"
   ],
   "id": "3e5245aa4b638b8f",
   "outputs": [],
   "execution_count": null
  },
  {
   "metadata": {},
   "cell_type": "code",
   "source": [
    "# Normalizing columns names for easier analysis\n",
    "df_1 = lower_df_columns(df_1)\n",
    "df_2 = lower_df_columns(df_2, lower_var=True)"
   ],
   "id": "6ef47ffc64a728e9",
   "outputs": [],
   "execution_count": null
  },
  {
   "metadata": {},
   "cell_type": "code",
   "source": [
    "# checking for col number difference\n",
    "assert len(df_1.columns) == len(df_2.columns), 'Diff cols'\n",
    "assert list(set(df_1.columns) - set(df_2.columns)) == [], 'Columns with different names'"
   ],
   "id": "6b71a239c9cab52e",
   "outputs": [],
   "execution_count": null
  },
  {
   "metadata": {},
   "cell_type": "code",
   "source": [
    "# checking for row number difference\n",
    "assert df_1.count() == df_2.count(), 'Diff rows'"
   ],
   "id": "121647315a22faa9",
   "outputs": [],
   "execution_count": null
  },
  {
   "metadata": {},
   "cell_type": "code",
   "source": [
    "# Checking for differences in data\n",
    "diff_dfs = df_1.subtract(df_2).count()\n",
    "# assert diff_dfs == 0, f'There\\'s difference in the data {diff_dfs}'"
   ],
   "id": "58482a8cef5a6207",
   "outputs": [],
   "execution_count": null
  },
  {
   "metadata": {},
   "cell_type": "code",
   "source": [
    "dict_final = {}\n",
    "keep_temp = 0\n",
    "for _col in df_1.columns:\n",
    "    if not keep_temp == diff_dfs:\n",
    "        temp = df_1.select(_col).subtract(df_2.select(_col)).count()\n",
    "    else:\n",
    "        temp = 0\n",
    "    keep_temp += temp\n",
    "    if temp > 0:\n",
    "        dict_final[_col] = temp"
   ],
   "id": "71401cd9bedf1eb0",
   "outputs": [],
   "execution_count": null
  },
  {
   "metadata": {},
   "cell_type": "code",
   "source": [
    "for _col in dict_final.keys():\n",
    "    print(f\"{_col} = {dict_final.get(_col)}\")"
   ],
   "id": "e9042413da6f5b87",
   "outputs": [],
   "execution_count": null
  },
  {
   "metadata": {},
   "cell_type": "markdown",
   "source": [
    "---\n",
    "\n",
    "# Class (expanding the validation)"
   ],
   "id": "d9d3cd4725f1fecc"
  },
  {
   "metadata": {
    "ExecuteTime": {
     "end_time": "2024-06-23T19:16:33.046706Z",
     "start_time": "2024-06-23T19:16:33.035837Z"
    }
   },
   "cell_type": "code",
   "source": [
    "class GetDfDifferences:\n",
    "    \"\"\"\n",
    "    Class for getting differences between two dataframes.\n",
    "    \n",
    "    df1: Spark Dataframe\n",
    "    the dataframe to be compared\n",
    "    \n",
    "    df2: Spark Dataframe\n",
    "    the new dataframe to be compared\n",
    "    \n",
    "    return: Spark Dataframe containing differences between two dataframes\n",
    "    \"\"\"\n",
    "    \n",
    "    # Defining the schema that will be used to report the analysis _____________________________________________________\n",
    "    SCHEMA = StructType([\n",
    "        StructField('DateRefProcess',    TimestampType(),                     True),\n",
    "        StructField('StartProcess',      TimestampType(),                     True),\n",
    "        StructField('EndProcess',        TimestampType(),                     True),\n",
    "        StructField('Status',            StringType(),                        True),\n",
    "        StructField('ColsDiff',          BooleanType(),                       True),\n",
    "        StructField('CountDiffBool',     BooleanType(),                       True),\n",
    "        StructField('CountDiffComplete', StringType(),                        True),\n",
    "        StructField('DataDiffBool',      BooleanType(),                       True),\n",
    "        StructField('DataDiffTotalRows', IntegerType(),                       True),\n",
    "        StructField('DataDiffCols',      MapType(StringType(), StringType()), True),\n",
    "    ])\n",
    "    \n",
    "    # ##################################################################################################################\n",
    "    def __init__(self, df1: SparkDF, df2: SparkDF):\n",
    "        self.df1 = self.lower_columns(df1)\n",
    "        self.df2 = self.lower_columns(df2)\n",
    "        \n",
    "        # Caching the Dataframes in order to improve performance _______________________________________________________\n",
    "        self.df1.cache()\n",
    "        self.df2.cache()\n",
    "        \n",
    "        self.data_diff = None\n",
    "        self.start = datetime.now()\n",
    "        \n",
    "    # ##################################################################################################################\n",
    "    def check_count(self) -> bool:\n",
    "        return self.df1.count() == self.df2.count()\n",
    "        \n",
    "    # ##################################################################################################################\n",
    "    def check_cols(self) -> bool:\n",
    "        return sorted(self.df1.columns) == sorted(self.df2.columns)\n",
    "    \n",
    "    # ##################################################################################################################\n",
    "    @staticmethod\n",
    "    def lower_columns(df: SparkDF) -> SparkDF:\n",
    "        df = df.toDF(*[column for column in df.columns])\n",
    "        return df.select(sorted(df.columns))\n",
    "    \n",
    "    # ##################################################################################################################\n",
    "    def get_data_diff(self) -> None:\n",
    "        columns = self.df1.columns\n",
    "        self.data_diff = self.df1.select(columns).subtract(self.df2.select(columns)).count()\n",
    "    \n",
    "    # ##################################################################################################################\n",
    "    def get_diff_cols(self) -> dict:\n",
    "        self.get_data_diff()\n",
    "        \n",
    "        if self.data_diff > 0:\n",
    "            return_dict = {}            \n",
    "            for column in sorted(self.df1.columns):\n",
    "                temp = self.df1.select(column).subtract(self.df2.select(column)).count()\n",
    "                return_dict[column] = temp\n",
    "            \n",
    "            return return_dict\n",
    "    \n",
    "    # ##################################################################################################################\n",
    "    def run(self) -> SparkDF:\n",
    "        \n",
    "        # Basic validation _____________________________________________________________________________________________\n",
    "        check_cols = self.check_cols()\n",
    "        check_count = self.check_count()\n",
    "        \n",
    "        # Checking for data validation _________________________________________________________________________________\n",
    "        col_dict = self.get_diff_cols() if (check_cols and check_count) else None\n",
    "        \n",
    "        # Preparing report DF that might be used in case of a log table for validation multiples tables after migration \n",
    "        data_return = [\n",
    "            (\n",
    "            self.start,\n",
    "            self.start,\n",
    "            datetime.now(),\n",
    "            'OK' if (check_cols and check_count and self.data_diff == 0) else 'NOT OK',\n",
    "            not check_cols,\n",
    "            not check_count,\n",
    "            f\"df1: {self.df1.count()} | df2: {self.df2.count()}\" if not check_count else \"No differences in count.\",\n",
    "            (self.data_diff > 0) if (check_cols and check_count) else False,\n",
    "            self.data_diff,\n",
    "            {_key: col_dict.get(_key) for _key in col_dict.keys() if col_dict.get(_key) > 0} if (check_cols and check_count and self.data_diff >0) else None,\n",
    "            )\n",
    "        ]\n",
    "        \n",
    "        # Un-persisting the Dataframes _________________________________________________________________________________\n",
    "        self.df1.unpersist()\n",
    "        self.df2.unpersist()\n",
    "        \n",
    "        # Validating if the Dataframes were indeed un-persisted ________________________________________________________\n",
    "        assert self.df1.is_cached is False, 'DF1 is cached'\n",
    "        assert self.df2.is_cached is False, 'DF2 is cached'\n",
    "        \n",
    "        # Deleting the variables created for the Dataframes since this is the last part of the class ___________________\n",
    "        del self.df1, self.df2\n",
    "        \n",
    "        # Well the end ...\n",
    "        return spark.createDataFrame(data=data_return, schema=self.SCHEMA).withColumn('DateRefProcess', col('DateRefProcess').cast(DateType()))"
   ],
   "id": "70f3371565d067ab",
   "outputs": [],
   "execution_count": 7
  },
  {
   "metadata": {},
   "cell_type": "markdown",
   "source": [
    "---\n",
    "# Expanding testing"
   ],
   "id": "68d8172bf4028763"
  },
  {
   "metadata": {
    "ExecuteTime": {
     "end_time": "2024-06-23T20:10:58.064218Z",
     "start_time": "2024-06-23T20:07:32.165326Z"
    }
   },
   "cell_type": "code",
   "source": [
    "import numpy as np\n",
    "from tqdm.notebook import tqdm\n",
    "\n",
    "# Defining a dict with the patterns for data creation and testing over the class\n",
    "generate_control = {\n",
    "    'num_dfs': 50,\n",
    "    'num_rows_in_df': 500000,\n",
    "    'dfs_col_removed': [0, 2, 32, 47],\n",
    "    'col_removed': [('col1',), ('col2',), ('col2',), ('col2',)],\n",
    "    'dfs_count': [0, 2, 3, 8, 40, 45],\n",
    "    'dfs_with_diffs': [0, 4, 5, 25, 30],\n",
    "    'dfs_diff_cols': [('col1', 'col2'), ('col3', 'col4', 'col1'), ('col1',), ('col3', 'col4'), ('col1', 'col2')],\n",
    "}\n",
    "\n",
    "# Schema for the Dataframes\n",
    "schema = StructType([\n",
    "    StructField('col1', StringType(), True),\n",
    "    StructField('col2', StringType(), True),\n",
    "    StructField('col3', StringType(), True),\n",
    "    StructField('col4', StringType(), True),\n",
    "])\n",
    "\n",
    "for df_generated in tqdm(range(generate_control.get('num_dfs'))):\n",
    "    start = datetime.now()\n",
    "    \n",
    "    new_data = [tuple([f'a_{x*(df_generated + 1)}_{str(y*(df_generated + 1)).zfill(4)}' for x in range(1,5)]) for y in range(1, int(generate_control.get('num_rows_in_df') * round(1 + np.random.choice([x for x in range(1, 20)], 1)[0]/100, 3)))]\n",
    "    \n",
    "    df1_gen_new = spark.createDataFrame(data=new_data, schema=schema)\n",
    "    df1_gen_new.cache()\n",
    "    df2_gen_new = df1_gen_new\n",
    "    df2_gen_new.cache()\n",
    "    \n",
    "    # Creating count diff\n",
    "    if df_generated in generate_control.get('dfs_count'):\n",
    "        df2_gen_new = df2_gen_new.unionAll(df2_gen_new.limit(np.random.choice([x for x in range(1, 200)], 1)[0]))\n",
    "    \n",
    "    # Creating data diff\n",
    "    if df_generated in generate_control.get('dfs_with_diffs'):\n",
    "        for column in generate_control.get('dfs_diff_cols')[generate_control.get('dfs_with_diffs').index(df_generated)]:\n",
    "            df2_gen_new = df2_gen_new.withColumn(column, when(col(column).like(f'%_00{int(\"\".join([x for x in column if x.isdigit()])) * np.random.choice([1,11], 1)[0]}0%'), 'DIFF').otherwise(col(column)))\n",
    "            \n",
    "    # Creating columns diff\n",
    "    if df_generated in generate_control.get('dfs_col_removed'):\n",
    "        for column in generate_control.get('col_removed')[generate_control.get('dfs_col_removed').index(df_generated)]:\n",
    "            df2_gen_new = df2_gen_new.drop(column)\n",
    "    \n",
    "    end = datetime.now()\n",
    "    \n",
    "    # Creating the report table\n",
    "    if df_generated == 0:\n",
    "        df_return = GetDfDifferences(df1_gen_new, df2_gen_new).run().withColumn('iteration', lit(df_generated)).withColumn('start_creation', lit(start)).withColumn('end_creation', lit(end))\n",
    "        \n",
    "    else:\n",
    "        df_return = df_return.unionAll(GetDfDifferences(df1_gen_new, df2_gen_new).run().withColumn('iteration', lit(df_generated)).withColumn('start_creation', lit(start)).withColumn('end_creation', lit(end)))\n",
    "    \n",
    "    df1_gen_new.unpersist()\n",
    "    df2_gen_new.unpersist()\n",
    "    \n",
    "    del df1_gen_new, df2_gen_new\n",
    "    "
   ],
   "id": "a6c0668476db7378",
   "execution_count": 44,
   "outputs": [
    {
     "data": {
      "text/plain": [
       "  0%|          | 0/50 [00:00<?, ?it/s]"
      ],
      "application/vnd.jupyter.widget-view+json": {
       "version_major": 2,
       "version_minor": 0,
       "model_id": "41d8f17c95394e759c6c19bd229d957c"
      }
     },
     "metadata": {},
     "output_type": "display_data"
    },
    {
     "name": "stderr",
     "output_type": "stream",
     "text": [
      "[Stage 2438:======================>                                (4 + 6) / 10]\r"
     ]
    },
    {
     "name": "stdout",
     "output_type": "stream",
     "text": [
      "[3108.959s][warning][gc,alloc] Executor task launch worker for task 6.0 in stage 2441.0 (TID 25820): Retried waiting for GCLocker too often allocating 262144 words\n",
      "[3108.959s][warning][gc,alloc] Executor task launch worker for task 4.0 in stage 2441.0 (TID 25818): Retried waiting for GCLocker too often allocating 262144 words\n"
     ]
    },
    {
     "name": "stderr",
     "output_type": "stream",
     "text": [
      "                                                                                \r"
     ]
    }
   ]
  },
  {
   "metadata": {
    "ExecuteTime": {
     "end_time": "2024-06-23T20:11:03.621153Z",
     "start_time": "2024-06-23T20:11:03.428145Z"
    }
   },
   "cell_type": "code",
   "source": [
    "df_return = df_return.withColumn('process_time_seconds', (col('EndProcess').cast(LongType()) - col('StartProcess').cast(LongType())))\n",
    "df_return = df_return.withColumn('creation_time_seconds', (col('end_creation').cast(LongType()) - col('start_creation').cast(LongType())))\n",
    "df_return.cache()"
   ],
   "id": "cffb7f40cff65c2b",
   "outputs": [
    {
     "data": {
      "text/plain": [
       "DataFrame[DateRefProcess: date, StartProcess: timestamp, EndProcess: timestamp, Status: string, ColsDiff: boolean, CountDiffBool: boolean, CountDiffComplete: string, DataDiffBool: boolean, DataDiffTotalRows: int, DataDiffCols: map<string,string>, iteration: int, start_creation: timestamp, end_creation: timestamp, process_time_seconds: bigint, creation_time_seconds: bigint]"
      ]
     },
     "execution_count": 45,
     "metadata": {},
     "output_type": "execute_result"
    }
   ],
   "execution_count": 45
  },
  {
   "metadata": {
    "ExecuteTime": {
     "end_time": "2024-06-23T20:11:16.886401Z",
     "start_time": "2024-06-23T20:11:16.882079Z"
    }
   },
   "cell_type": "code",
   "source": "df_return.is_cached",
   "id": "bddf07de88615ee6",
   "outputs": [
    {
     "data": {
      "text/plain": [
       "True"
      ]
     },
     "execution_count": 47,
     "metadata": {},
     "output_type": "execute_result"
    }
   ],
   "execution_count": 47
  },
  {
   "metadata": {
    "ExecuteTime": {
     "end_time": "2024-06-23T20:11:30.359844Z",
     "start_time": "2024-06-23T20:11:29.603699Z"
    }
   },
   "cell_type": "code",
   "source": "df_return.show(truncate=False)",
   "id": "90dd80dec8369a6f",
   "outputs": [
    {
     "name": "stdout",
     "output_type": "stream",
     "text": [
      "+--------------+--------------------------+--------------------------+------+--------+-------------+-------------------------+------------+-----------------+--------------------------------------+---------+--------------------------+--------------------------+--------------------+---------------------+\n",
      "|DateRefProcess|StartProcess              |EndProcess                |Status|ColsDiff|CountDiffBool|CountDiffComplete        |DataDiffBool|DataDiffTotalRows|DataDiffCols                          |iteration|start_creation            |end_creation              |process_time_seconds|creation_time_seconds|\n",
      "+--------------+--------------------------+--------------------------+------+--------+-------------+-------------------------+------------+-----------------+--------------------------------------+---------+--------------------------+--------------------------+--------------------+---------------------+\n",
      "|2024-06-23    |2024-06-23 17:07:33.699222|2024-06-23 17:07:40.041624|NOT OK|true    |true         |df1: 524999 | df2: 525151|false       |NULL             |NULL                                  |0        |2024-06-23 17:07:32.183705|2024-06-23 17:07:33.674544|7                   |1                    |\n",
      "|2024-06-23    |2024-06-23 17:07:41.986051|2024-06-23 17:07:45.177189|OK    |false   |false        |No differences in count. |false       |0                |NULL                                  |1        |2024-06-23 17:07:40.185263|2024-06-23 17:07:41.962566|4                   |1                    |\n",
      "|2024-06-23    |2024-06-23 17:07:46.769146|2024-06-23 17:07:48.408232|NOT OK|true    |true         |df1: 589999 | df2: 590051|false       |NULL             |NULL                                  |2        |2024-06-23 17:07:45.221408|2024-06-23 17:07:46.742681|2                   |1                    |\n",
      "|2024-06-23    |2024-06-23 17:07:49.875247|2024-06-23 17:07:50.945812|NOT OK|false   |true         |df1: 524999 | df2: 525103|false       |NULL             |NULL                                  |3        |2024-06-23 17:07:48.605225|2024-06-23 17:07:49.85053 |1                   |1                    |\n",
      "|2024-06-23    |2024-06-23 17:07:52.411497|2024-06-23 17:07:57.125755|NOT OK|false   |false        |No differences in count. |true        |750              |{col3 -> 360, col4 -> 360, col1 -> 30}|4        |2024-06-23 17:07:51.079637|2024-06-23 17:07:52.383921|5                   |1                    |\n",
      "|2024-06-23    |2024-06-23 17:07:58.675529|2024-06-23 17:08:05.405009|NOT OK|false   |false        |No differences in count. |true        |16               |{col1 -> 16}                          |5        |2024-06-23 17:07:57.176006|2024-06-23 17:07:58.658124|7                   |1                    |\n",
      "|2024-06-23    |2024-06-23 17:08:06.859607|2024-06-23 17:08:08.844728|OK    |false   |false        |No differences in count. |false       |0                |NULL                                  |6        |2024-06-23 17:08:05.442763|2024-06-23 17:08:06.84073 |2                   |1                    |\n",
      "|2024-06-23    |2024-06-23 17:08:10.073582|2024-06-23 17:08:11.812684|OK    |false   |false        |No differences in count. |false       |0                |NULL                                  |7        |2024-06-23 17:08:08.874512|2024-06-23 17:08:10.057417|1                   |2                    |\n",
      "|2024-06-23    |2024-06-23 17:08:13.277511|2024-06-23 17:08:14.759459|NOT OK|false   |true         |df1: 569999 | df2: 570174|false       |NULL             |NULL                                  |8        |2024-06-23 17:08:11.838885|2024-06-23 17:08:13.248755|1                   |2                    |\n",
      "|2024-06-23    |2024-06-23 17:08:16.208706|2024-06-23 17:08:18.078523|OK    |false   |false        |No differences in count. |false       |0                |NULL                                  |9        |2024-06-23 17:08:14.873554|2024-06-23 17:08:16.198287|2                   |2                    |\n",
      "|2024-06-23    |2024-06-23 17:08:19.348004|2024-06-23 17:08:21.071643|OK    |false   |false        |No differences in count. |false       |0                |NULL                                  |10       |2024-06-23 17:08:18.103998|2024-06-23 17:08:19.333688|2                   |1                    |\n",
      "|2024-06-23    |2024-06-23 17:08:22.482506|2024-06-23 17:08:24.322523|OK    |false   |false        |No differences in count. |false       |0                |NULL                                  |11       |2024-06-23 17:08:21.096096|2024-06-23 17:08:22.468605|2                   |1                    |\n",
      "|2024-06-23    |2024-06-23 17:08:25.695576|2024-06-23 17:08:27.814311|OK    |false   |false        |No differences in count. |false       |0                |NULL                                  |12       |2024-06-23 17:08:24.378848|2024-06-23 17:08:25.681719|2                   |1                    |\n",
      "|2024-06-23    |2024-06-23 17:08:29.042863|2024-06-23 17:08:31.654944|OK    |false   |false        |No differences in count. |false       |0                |NULL                                  |13       |2024-06-23 17:08:27.851074|2024-06-23 17:08:29.029588|2                   |2                    |\n",
      "|2024-06-23    |2024-06-23 17:08:32.965798|2024-06-23 17:08:34.756415|OK    |false   |false        |No differences in count. |false       |0                |NULL                                  |14       |2024-06-23 17:08:31.677093|2024-06-23 17:08:32.95434 |2                   |1                    |\n",
      "|2024-06-23    |2024-06-23 17:08:35.994669|2024-06-23 17:08:37.616549|OK    |false   |false        |No differences in count. |false       |0                |NULL                                  |15       |2024-06-23 17:08:34.779676|2024-06-23 17:08:35.980763|2                   |1                    |\n",
      "|2024-06-23    |2024-06-23 17:08:38.893469|2024-06-23 17:08:41.015686|OK    |false   |false        |No differences in count. |false       |0                |NULL                                  |16       |2024-06-23 17:08:37.646765|2024-06-23 17:08:38.879517|3                   |1                    |\n",
      "|2024-06-23    |2024-06-23 17:08:42.251029|2024-06-23 17:08:44.118629|OK    |false   |false        |No differences in count. |false       |0                |NULL                                  |17       |2024-06-23 17:08:41.047505|2024-06-23 17:08:42.236233|2                   |1                    |\n",
      "|2024-06-23    |2024-06-23 17:08:45.508784|2024-06-23 17:08:47.643919|OK    |false   |false        |No differences in count. |false       |0                |NULL                                  |18       |2024-06-23 17:08:44.146392|2024-06-23 17:08:45.495229|2                   |1                    |\n",
      "|2024-06-23    |2024-06-23 17:08:49.142655|2024-06-23 17:08:51.298963|OK    |false   |false        |No differences in count. |false       |0                |NULL                                  |19       |2024-06-23 17:08:47.710224|2024-06-23 17:08:49.127882|2                   |2                    |\n",
      "+--------------+--------------------------+--------------------------+------+--------+-------------+-------------------------+------------+-----------------+--------------------------------------+---------+--------------------------+--------------------------+--------------------+---------------------+\n",
      "only showing top 20 rows\n",
      "\n"
     ]
    }
   ],
   "execution_count": 49
  },
  {
   "metadata": {},
   "cell_type": "markdown",
   "source": [
    "---\n",
    "## Report showing tables that are OK"
   ],
   "id": "dfe696e4864a324d"
  },
  {
   "metadata": {
    "ExecuteTime": {
     "end_time": "2024-06-23T20:11:35.925289Z",
     "start_time": "2024-06-23T20:11:34.552027Z"
    }
   },
   "cell_type": "code",
   "source": "df_return.where(col('Status') == 'OK').orderBy(*[desc('process_time_seconds'), asc('iteration')]).withColumn('count', monotonically_increasing_id() + 1).select(['count', 'iteration'] + [column for column in df_return.columns if column not in ['iteration', 'count']]).show(100, truncate=False)",
   "id": "cf2c7fdff6f0fefd",
   "outputs": [
    {
     "name": "stderr",
     "output_type": "stream",
     "text": [
      "                                                                                \r"
     ]
    },
    {
     "name": "stdout",
     "output_type": "stream",
     "text": [
      "+-----+---------+--------------+--------------------------+--------------------------+------+--------+-------------+------------------------+------------+-----------------+------------+--------------------------+--------------------------+--------------------+---------------------+\n",
      "|count|iteration|DateRefProcess|StartProcess              |EndProcess                |Status|ColsDiff|CountDiffBool|CountDiffComplete       |DataDiffBool|DataDiffTotalRows|DataDiffCols|start_creation            |end_creation              |process_time_seconds|creation_time_seconds|\n",
      "+-----+---------+--------------+--------------------------+--------------------------+------+--------+-------------+------------------------+------------+-----------------+------------+--------------------------+--------------------------+--------------------+---------------------+\n",
      "|1    |1        |2024-06-23    |2024-06-23 17:07:41.986051|2024-06-23 17:07:45.177189|OK    |false   |false        |No differences in count.|false       |0                |NULL        |2024-06-23 17:07:40.185263|2024-06-23 17:07:41.962566|4                   |1                    |\n",
      "|2    |16       |2024-06-23    |2024-06-23 17:08:38.893469|2024-06-23 17:08:41.015686|OK    |false   |false        |No differences in count.|false       |0                |NULL        |2024-06-23 17:08:37.646765|2024-06-23 17:08:38.879517|3                   |1                    |\n",
      "|3    |31       |2024-06-23    |2024-06-23 17:09:41.808257|2024-06-23 17:09:44.777219|OK    |false   |false        |No differences in count.|false       |0                |NULL        |2024-06-23 17:09:40.172151|2024-06-23 17:09:41.788244|3                   |1                    |\n",
      "|4    |34       |2024-06-23    |2024-06-23 17:09:53.239566|2024-06-23 17:09:56.765224|OK    |false   |false        |No differences in count.|false       |0                |NULL        |2024-06-23 17:09:51.835875|2024-06-23 17:09:53.219088|3                   |2                    |\n",
      "|5    |36       |2024-06-23    |2024-06-23 17:10:02.556396|2024-06-23 17:10:05.370308|OK    |false   |false        |No differences in count.|false       |0                |NULL        |2024-06-23 17:10:00.909954|2024-06-23 17:10:02.545054|3                   |2                    |\n",
      "|6    |38       |2024-06-23    |2024-06-23 17:10:11.75203 |2024-06-23 17:10:14.584305|OK    |false   |false        |No differences in count.|false       |0                |NULL        |2024-06-23 17:10:09.917775|2024-06-23 17:10:11.717148|3                   |2                    |\n",
      "|7    |42       |2024-06-23    |2024-06-23 17:10:28.439463|2024-06-23 17:10:31.052242|OK    |false   |false        |No differences in count.|false       |0                |NULL        |2024-06-23 17:10:26.8081  |2024-06-23 17:10:28.416291|3                   |2                    |\n",
      "|8    |43       |2024-06-23    |2024-06-23 17:10:32.829491|2024-06-23 17:10:35.661086|OK    |false   |false        |No differences in count.|false       |0                |NULL        |2024-06-23 17:10:31.098102|2024-06-23 17:10:32.809812|3                   |1                    |\n",
      "|9    |44       |2024-06-23    |2024-06-23 17:10:37.516449|2024-06-23 17:10:40.381633|OK    |false   |false        |No differences in count.|false       |0                |NULL        |2024-06-23 17:10:35.701123|2024-06-23 17:10:37.496853|3                   |2                    |\n",
      "|10   |46       |2024-06-23    |2024-06-23 17:10:45.760679|2024-06-23 17:10:48.259379|OK    |false   |false        |No differences in count.|false       |0                |NULL        |2024-06-23 17:10:44.106745|2024-06-23 17:10:45.745384|3                   |1                    |\n",
      "|11   |49       |2024-06-23    |2024-06-23 17:10:55.848727|2024-06-23 17:10:58.031065|OK    |false   |false        |No differences in count.|false       |0                |NULL        |2024-06-23 17:10:54.423616|2024-06-23 17:10:55.834856|3                   |1                    |\n",
      "|12   |6        |2024-06-23    |2024-06-23 17:08:06.859607|2024-06-23 17:08:08.844728|OK    |false   |false        |No differences in count.|false       |0                |NULL        |2024-06-23 17:08:05.442763|2024-06-23 17:08:06.84073 |2                   |1                    |\n",
      "|13   |9        |2024-06-23    |2024-06-23 17:08:16.208706|2024-06-23 17:08:18.078523|OK    |false   |false        |No differences in count.|false       |0                |NULL        |2024-06-23 17:08:14.873554|2024-06-23 17:08:16.198287|2                   |2                    |\n",
      "|14   |10       |2024-06-23    |2024-06-23 17:08:19.348004|2024-06-23 17:08:21.071643|OK    |false   |false        |No differences in count.|false       |0                |NULL        |2024-06-23 17:08:18.103998|2024-06-23 17:08:19.333688|2                   |1                    |\n",
      "|15   |11       |2024-06-23    |2024-06-23 17:08:22.482506|2024-06-23 17:08:24.322523|OK    |false   |false        |No differences in count.|false       |0                |NULL        |2024-06-23 17:08:21.096096|2024-06-23 17:08:22.468605|2                   |1                    |\n",
      "|16   |12       |2024-06-23    |2024-06-23 17:08:25.695576|2024-06-23 17:08:27.814311|OK    |false   |false        |No differences in count.|false       |0                |NULL        |2024-06-23 17:08:24.378848|2024-06-23 17:08:25.681719|2                   |1                    |\n",
      "|17   |13       |2024-06-23    |2024-06-23 17:08:29.042863|2024-06-23 17:08:31.654944|OK    |false   |false        |No differences in count.|false       |0                |NULL        |2024-06-23 17:08:27.851074|2024-06-23 17:08:29.029588|2                   |2                    |\n",
      "|18   |14       |2024-06-23    |2024-06-23 17:08:32.965798|2024-06-23 17:08:34.756415|OK    |false   |false        |No differences in count.|false       |0                |NULL        |2024-06-23 17:08:31.677093|2024-06-23 17:08:32.95434 |2                   |1                    |\n",
      "|19   |15       |2024-06-23    |2024-06-23 17:08:35.994669|2024-06-23 17:08:37.616549|OK    |false   |false        |No differences in count.|false       |0                |NULL        |2024-06-23 17:08:34.779676|2024-06-23 17:08:35.980763|2                   |1                    |\n",
      "|20   |17       |2024-06-23    |2024-06-23 17:08:42.251029|2024-06-23 17:08:44.118629|OK    |false   |false        |No differences in count.|false       |0                |NULL        |2024-06-23 17:08:41.047505|2024-06-23 17:08:42.236233|2                   |1                    |\n",
      "|21   |18       |2024-06-23    |2024-06-23 17:08:45.508784|2024-06-23 17:08:47.643919|OK    |false   |false        |No differences in count.|false       |0                |NULL        |2024-06-23 17:08:44.146392|2024-06-23 17:08:45.495229|2                   |1                    |\n",
      "|22   |19       |2024-06-23    |2024-06-23 17:08:49.142655|2024-06-23 17:08:51.298963|OK    |false   |false        |No differences in count.|false       |0                |NULL        |2024-06-23 17:08:47.710224|2024-06-23 17:08:49.127882|2                   |2                    |\n",
      "|23   |20       |2024-06-23    |2024-06-23 17:08:52.634701|2024-06-23 17:08:54.508022|OK    |false   |false        |No differences in count.|false       |0                |NULL        |2024-06-23 17:08:51.332796|2024-06-23 17:08:52.620683|2                   |1                    |\n",
      "|24   |21       |2024-06-23    |2024-06-23 17:08:55.764376|2024-06-23 17:08:57.603545|OK    |false   |false        |No differences in count.|false       |0                |NULL        |2024-06-23 17:08:54.538084|2024-06-23 17:08:55.75111 |2                   |1                    |\n",
      "|25   |22       |2024-06-23    |2024-06-23 17:08:58.928039|2024-06-23 17:09:00.782079|OK    |false   |false        |No differences in count.|false       |0                |NULL        |2024-06-23 17:08:57.628818|2024-06-23 17:08:58.914896|2                   |1                    |\n",
      "|26   |23       |2024-06-23    |2024-06-23 17:09:02.159914|2024-06-23 17:09:04.286966|OK    |false   |false        |No differences in count.|false       |0                |NULL        |2024-06-23 17:09:00.805946|2024-06-23 17:09:02.147871|2                   |2                    |\n",
      "|27   |24       |2024-06-23    |2024-06-23 17:09:05.814969|2024-06-23 17:09:07.861998|OK    |false   |false        |No differences in count.|false       |0                |NULL        |2024-06-23 17:09:04.333707|2024-06-23 17:09:05.80322 |2                   |1                    |\n",
      "|28   |26       |2024-06-23    |2024-06-23 17:09:17.463684|2024-06-23 17:09:19.498408|OK    |false   |false        |No differences in count.|false       |0                |NULL        |2024-06-23 17:09:16.054868|2024-06-23 17:09:17.448614|2                   |1                    |\n",
      "|29   |28       |2024-06-23    |2024-06-23 17:09:24.397426|2024-06-23 17:09:26.289168|OK    |false   |false        |No differences in count.|false       |0                |NULL        |2024-06-23 17:09:22.943135|2024-06-23 17:09:24.383966|2                   |2                    |\n",
      "|30   |29       |2024-06-23    |2024-06-23 17:09:27.552613|2024-06-23 17:09:29.549556|OK    |false   |false        |No differences in count.|false       |0                |NULL        |2024-06-23 17:09:26.318625|2024-06-23 17:09:27.538928|2                   |1                    |\n",
      "|31   |33       |2024-06-23    |2024-06-23 17:09:49.16223 |2024-06-23 17:09:51.79205 |OK    |false   |false        |No differences in count.|false       |0                |NULL        |2024-06-23 17:09:47.666086|2024-06-23 17:09:49.146448|2                   |2                    |\n",
      "|32   |35       |2024-06-23    |2024-06-23 17:09:58.203187|2024-06-23 17:10:00.870462|OK    |false   |false        |No differences in count.|false       |0                |NULL        |2024-06-23 17:09:56.813986|2024-06-23 17:09:58.180925|2                   |2                    |\n",
      "|33   |37       |2024-06-23    |2024-06-23 17:10:07.003649|2024-06-23 17:10:09.876295|OK    |false   |false        |No differences in count.|false       |0                |NULL        |2024-06-23 17:10:05.412167|2024-06-23 17:10:06.975308|2                   |1                    |\n",
      "|34   |39       |2024-06-23    |2024-06-23 17:10:16.146904|2024-06-23 17:10:18.955977|OK    |false   |false        |No differences in count.|false       |0                |NULL        |2024-06-23 17:10:14.622896|2024-06-23 17:10:16.126353|2                   |2                    |\n",
      "|35   |41       |2024-06-23    |2024-06-23 17:10:24.153791|2024-06-23 17:10:26.702786|OK    |false   |false        |No differences in count.|false       |0                |NULL        |2024-06-23 17:10:22.635722|2024-06-23 17:10:24.132282|2                   |2                    |\n",
      "|36   |48       |2024-06-23    |2024-06-23 17:10:52.242444|2024-06-23 17:10:54.395715|OK    |false   |false        |No differences in count.|false       |0                |NULL        |2024-06-23 17:10:50.904285|2024-06-23 17:10:52.225518|2                   |2                    |\n",
      "|37   |7        |2024-06-23    |2024-06-23 17:08:10.073582|2024-06-23 17:08:11.812684|OK    |false   |false        |No differences in count.|false       |0                |NULL        |2024-06-23 17:08:08.874512|2024-06-23 17:08:10.057417|1                   |2                    |\n",
      "|38   |27       |2024-06-23    |2024-06-23 17:09:21.061583|2024-06-23 17:09:22.911094|OK    |false   |false        |No differences in count.|false       |0                |NULL        |2024-06-23 17:09:19.530847|2024-06-23 17:09:21.048979|1                   |2                    |\n",
      "+-----+---------+--------------+--------------------------+--------------------------+------+--------+-------------+------------------------+------------+-----------------+------------+--------------------------+--------------------------+--------------------+---------------------+\n",
      "\n"
     ]
    }
   ],
   "execution_count": 50
  },
  {
   "metadata": {},
   "cell_type": "markdown",
   "source": [
    "---\n",
    "## Report showing tables that aren't OK"
   ],
   "id": "544fef749e73212d"
  },
  {
   "metadata": {
    "ExecuteTime": {
     "end_time": "2024-06-23T20:11:43.221229Z",
     "start_time": "2024-06-23T20:11:41.780301Z"
    }
   },
   "cell_type": "code",
   "source": [
    "(df_return.where(col('Status') != 'OK').orderBy(*[asc('ColsDiff'), asc('CountDiffBool')])\n",
    "          .withColumn('count', monotonically_increasing_id() + 1)\n",
    "          .select(['count', 'iteration'] + [column for column in df_return.columns if column not in ['iteration', 'count']])\n",
    "          .show(truncate=False))"
   ],
   "id": "1a8b97ab1b327bc3",
   "outputs": [
    {
     "name": "stdout",
     "output_type": "stream",
     "text": [
      "+-----+---------+--------------+--------------------------+--------------------------+------+--------+-------------+-------------------------+------------+-----------------+--------------------------------------+--------------------------+--------------------------+--------------------+---------------------+\n",
      "|count|iteration|DateRefProcess|StartProcess              |EndProcess                |Status|ColsDiff|CountDiffBool|CountDiffComplete        |DataDiffBool|DataDiffTotalRows|DataDiffCols                          |start_creation            |end_creation              |process_time_seconds|creation_time_seconds|\n",
      "+-----+---------+--------------+--------------------------+--------------------------+------+--------+-------------+-------------------------+------------+-----------------+--------------------------------------+--------------------------+--------------------------+--------------------+---------------------+\n",
      "|1    |4        |2024-06-23    |2024-06-23 17:07:52.411497|2024-06-23 17:07:57.125755|NOT OK|false   |false        |No differences in count. |true        |750              |{col3 -> 360, col4 -> 360, col1 -> 30}|2024-06-23 17:07:51.079637|2024-06-23 17:07:52.383921|5                   |1                    |\n",
      "|2    |5        |2024-06-23    |2024-06-23 17:07:58.675529|2024-06-23 17:08:05.405009|NOT OK|false   |false        |No differences in count. |true        |16               |{col1 -> 16}                          |2024-06-23 17:07:57.176006|2024-06-23 17:07:58.658124|7                   |1                    |\n",
      "|3    |25       |2024-06-23    |2024-06-23 17:09:09.090169|2024-06-23 17:09:16.027509|NOT OK|false   |false        |No differences in count. |true        |259              |{col3 -> 19, col4 -> 240}             |2024-06-23 17:09:07.889314|2024-06-23 17:09:09.072403|7                   |2                    |\n",
      "|4    |30       |2024-06-23    |2024-06-23 17:09:30.877831|2024-06-23 17:09:40.13526 |NOT OK|false   |false        |No differences in count. |true        |205              |{col2 -> 191, col1 -> 14}             |2024-06-23 17:09:29.614565|2024-06-23 17:09:30.861367|10                  |1                    |\n",
      "|5    |3        |2024-06-23    |2024-06-23 17:07:49.875247|2024-06-23 17:07:50.945812|NOT OK|false   |true         |df1: 524999 | df2: 525103|false       |NULL             |NULL                                  |2024-06-23 17:07:48.605225|2024-06-23 17:07:49.85053 |1                   |1                    |\n",
      "|6    |8        |2024-06-23    |2024-06-23 17:08:13.277511|2024-06-23 17:08:14.759459|NOT OK|false   |true         |df1: 569999 | df2: 570174|false       |NULL             |NULL                                  |2024-06-23 17:08:11.838885|2024-06-23 17:08:13.248755|1                   |2                    |\n",
      "|7    |40       |2024-06-23    |2024-06-23 17:10:20.494334|2024-06-23 17:10:22.374578|NOT OK|false   |true         |df1: 524999 | df2: 525088|false       |NULL             |NULL                                  |2024-06-23 17:10:18.998445|2024-06-23 17:10:20.465504|2                   |2                    |\n",
      "|8    |45       |2024-06-23    |2024-06-23 17:10:42.064068|2024-06-23 17:10:43.563714|NOT OK|false   |true         |df1: 564999 | df2: 565194|false       |NULL             |NULL                                  |2024-06-23 17:10:40.424635|2024-06-23 17:10:42.041336|1                   |2                    |\n",
      "|9    |32       |2024-06-23    |2024-06-23 17:09:46.176641|2024-06-23 17:09:47.632201|NOT OK|true    |false        |No differences in count. |false       |NULL             |NULL                                  |2024-06-23 17:09:44.827718|2024-06-23 17:09:46.11019 |1                   |2                    |\n",
      "|10   |47       |2024-06-23    |2024-06-23 17:10:49.739771|2024-06-23 17:10:50.875543|NOT OK|true    |false        |No differences in count. |false       |NULL             |NULL                                  |2024-06-23 17:10:48.301653|2024-06-23 17:10:49.721931|1                   |1                    |\n",
      "|11   |0        |2024-06-23    |2024-06-23 17:07:33.699222|2024-06-23 17:07:40.041624|NOT OK|true    |true         |df1: 524999 | df2: 525151|false       |NULL             |NULL                                  |2024-06-23 17:07:32.183705|2024-06-23 17:07:33.674544|7                   |1                    |\n",
      "|12   |2        |2024-06-23    |2024-06-23 17:07:46.769146|2024-06-23 17:07:48.408232|NOT OK|true    |true         |df1: 589999 | df2: 590051|false       |NULL             |NULL                                  |2024-06-23 17:07:45.221408|2024-06-23 17:07:46.742681|2                   |1                    |\n",
      "+-----+---------+--------------+--------------------------+--------------------------+------+--------+-------------+-------------------------+------------+-----------------+--------------------------------------+--------------------------+--------------------------+--------------------+---------------------+\n",
      "\n"
     ]
    }
   ],
   "execution_count": 51
  },
  {
   "metadata": {},
   "cell_type": "markdown",
   "source": [
    "---\n",
    "## Report showing tables with only differences on data"
   ],
   "id": "7d34f49dd8bc2a2b"
  },
  {
   "metadata": {
    "ExecuteTime": {
     "end_time": "2024-06-23T20:11:54.653089Z",
     "start_time": "2024-06-23T20:11:53.473285Z"
    }
   },
   "cell_type": "code",
   "source": [
    "(df_return.where((col('Status') != 'OK') & (col('ColsDiff') == False) & (col('CountDiffBool') == False))\n",
    "          .orderBy(*[desc('process_time_seconds'), asc('iteration')])\n",
    "          .withColumn('count', monotonically_increasing_id()).select(['count', 'iteration'] + [column for column in df_return.columns if column not in ['iteration', 'count']])\n",
    "          .show(truncate=False))"
   ],
   "id": "680a5bb762a5d20f",
   "outputs": [
    {
     "name": "stdout",
     "output_type": "stream",
     "text": [
      "+-----+---------+--------------+--------------------------+--------------------------+------+--------+-------------+------------------------+------------+-----------------+--------------------------------------+--------------------------+--------------------------+--------------------+---------------------+\n",
      "|count|iteration|DateRefProcess|StartProcess              |EndProcess                |Status|ColsDiff|CountDiffBool|CountDiffComplete       |DataDiffBool|DataDiffTotalRows|DataDiffCols                          |start_creation            |end_creation              |process_time_seconds|creation_time_seconds|\n",
      "+-----+---------+--------------+--------------------------+--------------------------+------+--------+-------------+------------------------+------------+-----------------+--------------------------------------+--------------------------+--------------------------+--------------------+---------------------+\n",
      "|0    |30       |2024-06-23    |2024-06-23 17:09:30.877831|2024-06-23 17:09:40.13526 |NOT OK|false   |false        |No differences in count.|true        |205              |{col2 -> 191, col1 -> 14}             |2024-06-23 17:09:29.614565|2024-06-23 17:09:30.861367|10                  |1                    |\n",
      "|1    |5        |2024-06-23    |2024-06-23 17:07:58.675529|2024-06-23 17:08:05.405009|NOT OK|false   |false        |No differences in count.|true        |16               |{col1 -> 16}                          |2024-06-23 17:07:57.176006|2024-06-23 17:07:58.658124|7                   |1                    |\n",
      "|2    |25       |2024-06-23    |2024-06-23 17:09:09.090169|2024-06-23 17:09:16.027509|NOT OK|false   |false        |No differences in count.|true        |259              |{col3 -> 19, col4 -> 240}             |2024-06-23 17:09:07.889314|2024-06-23 17:09:09.072403|7                   |2                    |\n",
      "|3    |4        |2024-06-23    |2024-06-23 17:07:52.411497|2024-06-23 17:07:57.125755|NOT OK|false   |false        |No differences in count.|true        |750              |{col3 -> 360, col4 -> 360, col1 -> 30}|2024-06-23 17:07:51.079637|2024-06-23 17:07:52.383921|5                   |1                    |\n",
      "+-----+---------+--------------+--------------------------+--------------------------+------+--------+-------------+------------------------+------------+-----------------+--------------------------------------+--------------------------+--------------------------+--------------------+---------------------+\n",
      "\n"
     ]
    }
   ],
   "execution_count": 52
  },
  {
   "metadata": {},
   "cell_type": "markdown",
   "source": [
    "---\n",
    "## Report showing tables with differences on count and columns"
   ],
   "id": "473608a71467882a"
  },
  {
   "metadata": {
    "ExecuteTime": {
     "end_time": "2024-06-23T20:12:14.776188Z",
     "start_time": "2024-06-23T20:12:13.512153Z"
    }
   },
   "cell_type": "code",
   "source": "df_return.where((col('Status') != 'OK') & (col('ColsDiff') == True) & (col('CountDiffBool') == True)).show(truncate=False)",
   "id": "e968fb6858abf0d4",
   "outputs": [
    {
     "name": "stdout",
     "output_type": "stream",
     "text": [
      "+--------------+--------------------------+--------------------------+------+--------+-------------+-------------------------+------------+-----------------+------------+---------+--------------------------+--------------------------+--------------------+---------------------+\n",
      "|DateRefProcess|StartProcess              |EndProcess                |Status|ColsDiff|CountDiffBool|CountDiffComplete        |DataDiffBool|DataDiffTotalRows|DataDiffCols|iteration|start_creation            |end_creation              |process_time_seconds|creation_time_seconds|\n",
      "+--------------+--------------------------+--------------------------+------+--------+-------------+-------------------------+------------+-----------------+------------+---------+--------------------------+--------------------------+--------------------+---------------------+\n",
      "|2024-06-23    |2024-06-23 17:07:33.699222|2024-06-23 17:07:40.041624|NOT OK|true    |true         |df1: 524999 | df2: 525151|false       |NULL             |NULL        |0        |2024-06-23 17:07:32.183705|2024-06-23 17:07:33.674544|7                   |1                    |\n",
      "|2024-06-23    |2024-06-23 17:07:46.769146|2024-06-23 17:07:48.408232|NOT OK|true    |true         |df1: 589999 | df2: 590051|false       |NULL             |NULL        |2        |2024-06-23 17:07:45.221408|2024-06-23 17:07:46.742681|2                   |1                    |\n",
      "+--------------+--------------------------+--------------------------+------+--------+-------------+-------------------------+------------+-----------------+------------+---------+--------------------------+--------------------------+--------------------+---------------------+\n",
      "\n"
     ]
    },
    {
     "name": "stderr",
     "output_type": "stream",
     "text": [
      "                                                                                \r"
     ]
    }
   ],
   "execution_count": 53
  },
  {
   "metadata": {
    "ExecuteTime": {
     "end_time": "2024-06-23T20:12:15.706346Z",
     "start_time": "2024-06-23T20:12:14.781325Z"
    }
   },
   "cell_type": "code",
   "source": "df_return.where((col('Status') != 'OK') & (col('ColsDiff') == True)).show(truncate=False)",
   "id": "41706d703a5255c9",
   "outputs": [
    {
     "name": "stdout",
     "output_type": "stream",
     "text": [
      "+--------------+--------------------------+--------------------------+------+--------+-------------+-------------------------+------------+-----------------+------------+---------+--------------------------+--------------------------+--------------------+---------------------+\n",
      "|DateRefProcess|StartProcess              |EndProcess                |Status|ColsDiff|CountDiffBool|CountDiffComplete        |DataDiffBool|DataDiffTotalRows|DataDiffCols|iteration|start_creation            |end_creation              |process_time_seconds|creation_time_seconds|\n",
      "+--------------+--------------------------+--------------------------+------+--------+-------------+-------------------------+------------+-----------------+------------+---------+--------------------------+--------------------------+--------------------+---------------------+\n",
      "|2024-06-23    |2024-06-23 17:07:33.699222|2024-06-23 17:07:40.041624|NOT OK|true    |true         |df1: 524999 | df2: 525151|false       |NULL             |NULL        |0        |2024-06-23 17:07:32.183705|2024-06-23 17:07:33.674544|7                   |1                    |\n",
      "|2024-06-23    |2024-06-23 17:07:46.769146|2024-06-23 17:07:48.408232|NOT OK|true    |true         |df1: 589999 | df2: 590051|false       |NULL             |NULL        |2        |2024-06-23 17:07:45.221408|2024-06-23 17:07:46.742681|2                   |1                    |\n",
      "|2024-06-23    |2024-06-23 17:09:46.176641|2024-06-23 17:09:47.632201|NOT OK|true    |false        |No differences in count. |false       |NULL             |NULL        |32       |2024-06-23 17:09:44.827718|2024-06-23 17:09:46.11019 |1                   |2                    |\n",
      "|2024-06-23    |2024-06-23 17:10:49.739771|2024-06-23 17:10:50.875543|NOT OK|true    |false        |No differences in count. |false       |NULL             |NULL        |47       |2024-06-23 17:10:48.301653|2024-06-23 17:10:49.721931|1                   |1                    |\n",
      "+--------------+--------------------------+--------------------------+------+--------+-------------+-------------------------+------------+-----------------+------------+---------+--------------------------+--------------------------+--------------------+---------------------+\n",
      "\n"
     ]
    },
    {
     "name": "stderr",
     "output_type": "stream",
     "text": [
      "                                                                                \r"
     ]
    }
   ],
   "execution_count": 54
  },
  {
   "metadata": {
    "ExecuteTime": {
     "end_time": "2024-06-23T20:12:16.408824Z",
     "start_time": "2024-06-23T20:12:15.708148Z"
    }
   },
   "cell_type": "code",
   "source": "df_return.where((col('Status') != 'OK') & (col('ColsDiff') == False) & (col('CountDiffBool') == True)).show(truncate=False)",
   "id": "c8564606a66260ee",
   "execution_count": 55,
   "outputs": [
    {
     "name": "stdout",
     "output_type": "stream",
     "text": [
      "+--------------+--------------------------+--------------------------+------+--------+-------------+-------------------------+------------+-----------------+------------+---------+--------------------------+--------------------------+--------------------+---------------------+\n",
      "|DateRefProcess|StartProcess              |EndProcess                |Status|ColsDiff|CountDiffBool|CountDiffComplete        |DataDiffBool|DataDiffTotalRows|DataDiffCols|iteration|start_creation            |end_creation              |process_time_seconds|creation_time_seconds|\n",
      "+--------------+--------------------------+--------------------------+------+--------+-------------+-------------------------+------------+-----------------+------------+---------+--------------------------+--------------------------+--------------------+---------------------+\n",
      "|2024-06-23    |2024-06-23 17:07:49.875247|2024-06-23 17:07:50.945812|NOT OK|false   |true         |df1: 524999 | df2: 525103|false       |NULL             |NULL        |3        |2024-06-23 17:07:48.605225|2024-06-23 17:07:49.85053 |1                   |1                    |\n",
      "|2024-06-23    |2024-06-23 17:08:13.277511|2024-06-23 17:08:14.759459|NOT OK|false   |true         |df1: 569999 | df2: 570174|false       |NULL             |NULL        |8        |2024-06-23 17:08:11.838885|2024-06-23 17:08:13.248755|1                   |2                    |\n",
      "|2024-06-23    |2024-06-23 17:10:20.494334|2024-06-23 17:10:22.374578|NOT OK|false   |true         |df1: 524999 | df2: 525088|false       |NULL             |NULL        |40       |2024-06-23 17:10:18.998445|2024-06-23 17:10:20.465504|2                   |2                    |\n",
      "|2024-06-23    |2024-06-23 17:10:42.064068|2024-06-23 17:10:43.563714|NOT OK|false   |true         |df1: 564999 | df2: 565194|false       |NULL             |NULL        |45       |2024-06-23 17:10:40.424635|2024-06-23 17:10:42.041336|1                   |2                    |\n",
      "+--------------+--------------------------+--------------------------+------+--------+-------------+-------------------------+------------+-----------------+------------+---------+--------------------------+--------------------------+--------------------+---------------------+\n",
      "\n"
     ]
    }
   ]
  },
  {
   "metadata": {},
   "cell_type": "code",
   "outputs": [],
   "execution_count": null,
   "source": "",
   "id": "4ec31ba20544f8a9"
  }
 ],
 "metadata": {
  "kernelspec": {
   "display_name": "Python 3",
   "language": "python",
   "name": "python3"
  },
  "language_info": {
   "codemirror_mode": {
    "name": "ipython",
    "version": 2
   },
   "file_extension": ".py",
   "mimetype": "text/x-python",
   "name": "python",
   "nbconvert_exporter": "python",
   "pygments_lexer": "ipython2",
   "version": "2.7.6"
  }
 },
 "nbformat": 4,
 "nbformat_minor": 5
}
